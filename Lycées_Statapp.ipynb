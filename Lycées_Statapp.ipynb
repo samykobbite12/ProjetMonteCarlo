{
  "nbformat": 4,
  "nbformat_minor": 0,
  "metadata": {
    "colab": {
      "provenance": [],
      "mount_file_id": "1Ncpta2fUZ5b9BKBkqwPrZCam5CV6UHti",
      "authorship_tag": "ABX9TyOJJ5YVkYyvrHDgYGPXGn3e",
      "include_colab_link": true
    },
    "kernelspec": {
      "name": "python3",
      "display_name": "Python 3"
    },
    "language_info": {
      "name": "python"
    }
  },
  "cells": [
    {
      "cell_type": "markdown",
      "metadata": {
        "id": "view-in-github",
        "colab_type": "text"
      },
      "source": [
        "<a href=\"https://colab.research.google.com/github/samykobbite12/ProjetMonteCarlo/blob/main/Lyc%C3%A9es_Statapp.ipynb\" target=\"_parent\"><img src=\"https://colab.research.google.com/assets/colab-badge.svg\" alt=\"Open In Colab\"/></a>"
      ]
    },
    {
      "cell_type": "code",
      "execution_count": 1,
      "metadata": {
        "id": "nZAsJjEfxCk7"
      },
      "outputs": [],
      "source": [
        "import pandas as pd"
      ]
    },
    {
      "cell_type": "code",
      "source": [
        "from google.colab import drive"
      ],
      "metadata": {
        "id": "wTS68kEkxHQD"
      },
      "execution_count": 2,
      "outputs": []
    },
    {
      "cell_type": "code",
      "source": [
        "drive.mount('/content/drive')"
      ],
      "metadata": {
        "colab": {
          "base_uri": "https://localhost:8080/"
        },
        "id": "7Dfwfkb6xLtJ",
        "outputId": "6b3a6d5b-e206-45fd-d279-0a4768ce3d97"
      },
      "execution_count": 3,
      "outputs": [
        {
          "output_type": "stream",
          "name": "stdout",
          "text": [
            "Drive already mounted at /content/drive; to attempt to forcibly remount, call drive.mount(\"/content/drive\", force_remount=True).\n"
          ]
        }
      ]
    },
    {
      "cell_type": "code",
      "source": [
        "df = pd.read_csv(\"/content/drive/MyDrive/Data/Ecoles_paris.csv\", sep=';', header=None)"
      ],
      "metadata": {
        "id": "wKI_REdizZUk"
      },
      "execution_count": 4,
      "outputs": []
    },
    {
      "cell_type": "code",
      "source": [
        "df.head()"
      ],
      "metadata": {
        "colab": {
          "base_uri": "https://localhost:8080/",
          "height": 552
        },
        "id": "Jjsr82FSzhdj",
        "outputId": "f2f13098-bd52-4b33-d8e4-02cea6d10b58"
      },
      "execution_count": 5,
      "outputs": [
        {
          "output_type": "execute_result",
          "data": {
            "text/plain": [
              "                   0                                                  1   \\\n",
              "0  Code établissement                             Appellation officielle   \n",
              "1            0750150F  E.P.PR SAINTE-GENEVIEVE 65 rue du Cardinal Lem...   \n",
              "2            0750153J                 E.P.PR SAINT-VICTOR 35 rue Jussieu   \n",
              "3            0750167Z      E.P.PR STANISLAS 22 rue Notre Dame des Champs   \n",
              "4            0750182R                          Collège privé Saint Louis   \n",
              "\n",
              "                        2                 3                     4   \\\n",
              "0  Dénomination principale     Patronyme uai  Secteur Public/Privé   \n",
              "1    ECOLE PRIMAIRE PRIVEE  SAINTE-GENEVIEVE                 Privé   \n",
              "2    ECOLE PRIMAIRE PRIVEE      SAINT-VICTOR                 Privé   \n",
              "3    ECOLE PRIMAIRE PRIVEE         STANISLAS                 Privé   \n",
              "4            COLLEGE PRIVE       SAINT-LOUIS                 Privé   \n",
              "\n",
              "                             5         6              7            8   \\\n",
              "0                       Adresse  Lieu dit  Boite postale  Code postal   \n",
              "1    65 rue du Cardinal Lemoine       NaN            NaN        75005   \n",
              "2                35 rue Jussieu       NaN            NaN        75005   \n",
              "3  22 rue Notre Dame des Champs       NaN            NaN        75006   \n",
              "4               47 rue Montcalm       NaN            NaN        75018   \n",
              "\n",
              "                        9   ...            25           26             27  \\\n",
              "0  Localite d'acheminement  ...  Code commune  Département         Région   \n",
              "1                    PARIS  ...         75105        Paris  Ile-de-France   \n",
              "2                    PARIS  ...         75105        Paris  Ile-de-France   \n",
              "3                    PARIS  ...         75106        Paris  Ile-de-France   \n",
              "4                    PARIS  ...         75118        Paris  Ile-de-France   \n",
              "\n",
              "         28                                     29  \\\n",
              "0  Académie                               Position   \n",
              "1     Paris  48.84586899472324, 2.3506515701632913   \n",
              "2     Paris  48.84700627040922, 2.3535644367706623   \n",
              "3     Paris  48.845597026381995, 2.327789770055034   \n",
              "4     Paris   48.89418927217453, 2.339726809673218   \n",
              "\n",
              "                                30                                    31  \\\n",
              "0  secteur_prive_code_type_contrat    secteur_prive_libelle_type_contrat   \n",
              "1                               30  CONTRAT D'ASSOCIATION TOUTES CLASSES   \n",
              "2                               30  CONTRAT D'ASSOCIATION TOUTES CLASSES   \n",
              "3                               30  CONTRAT D'ASSOCIATION TOUTES CLASSES   \n",
              "4                               30  CONTRAT D'ASSOCIATION TOUTES CLASSES   \n",
              "\n",
              "               32                                  33              34  \n",
              "0  code_ministere                   libelle_ministere  date_ouverture  \n",
              "1               6  MINISTERE DE L'EDUCATION NATIONALE      10/01/1969  \n",
              "2               6  MINISTERE DE L'EDUCATION NATIONALE      10/01/1969  \n",
              "3               6  MINISTERE DE L'EDUCATION NATIONALE      10/01/1969  \n",
              "4               6  MINISTERE DE L'EDUCATION NATIONALE      24/02/1969  \n",
              "\n",
              "[5 rows x 35 columns]"
            ],
            "text/html": [
              "\n",
              "  <div id=\"df-cc18dcba-9bbe-4c49-afa1-d26c29bf03dc\">\n",
              "    <div class=\"colab-df-container\">\n",
              "      <div>\n",
              "<style scoped>\n",
              "    .dataframe tbody tr th:only-of-type {\n",
              "        vertical-align: middle;\n",
              "    }\n",
              "\n",
              "    .dataframe tbody tr th {\n",
              "        vertical-align: top;\n",
              "    }\n",
              "\n",
              "    .dataframe thead th {\n",
              "        text-align: right;\n",
              "    }\n",
              "</style>\n",
              "<table border=\"1\" class=\"dataframe\">\n",
              "  <thead>\n",
              "    <tr style=\"text-align: right;\">\n",
              "      <th></th>\n",
              "      <th>0</th>\n",
              "      <th>1</th>\n",
              "      <th>2</th>\n",
              "      <th>3</th>\n",
              "      <th>4</th>\n",
              "      <th>5</th>\n",
              "      <th>6</th>\n",
              "      <th>7</th>\n",
              "      <th>8</th>\n",
              "      <th>9</th>\n",
              "      <th>...</th>\n",
              "      <th>25</th>\n",
              "      <th>26</th>\n",
              "      <th>27</th>\n",
              "      <th>28</th>\n",
              "      <th>29</th>\n",
              "      <th>30</th>\n",
              "      <th>31</th>\n",
              "      <th>32</th>\n",
              "      <th>33</th>\n",
              "      <th>34</th>\n",
              "    </tr>\n",
              "  </thead>\n",
              "  <tbody>\n",
              "    <tr>\n",
              "      <th>0</th>\n",
              "      <td>Code établissement</td>\n",
              "      <td>Appellation officielle</td>\n",
              "      <td>Dénomination principale</td>\n",
              "      <td>Patronyme uai</td>\n",
              "      <td>Secteur Public/Privé</td>\n",
              "      <td>Adresse</td>\n",
              "      <td>Lieu dit</td>\n",
              "      <td>Boite postale</td>\n",
              "      <td>Code postal</td>\n",
              "      <td>Localite d'acheminement</td>\n",
              "      <td>...</td>\n",
              "      <td>Code commune</td>\n",
              "      <td>Département</td>\n",
              "      <td>Région</td>\n",
              "      <td>Académie</td>\n",
              "      <td>Position</td>\n",
              "      <td>secteur_prive_code_type_contrat</td>\n",
              "      <td>secteur_prive_libelle_type_contrat</td>\n",
              "      <td>code_ministere</td>\n",
              "      <td>libelle_ministere</td>\n",
              "      <td>date_ouverture</td>\n",
              "    </tr>\n",
              "    <tr>\n",
              "      <th>1</th>\n",
              "      <td>0750150F</td>\n",
              "      <td>E.P.PR SAINTE-GENEVIEVE 65 rue du Cardinal Lem...</td>\n",
              "      <td>ECOLE PRIMAIRE PRIVEE</td>\n",
              "      <td>SAINTE-GENEVIEVE</td>\n",
              "      <td>Privé</td>\n",
              "      <td>65 rue du Cardinal Lemoine</td>\n",
              "      <td>NaN</td>\n",
              "      <td>NaN</td>\n",
              "      <td>75005</td>\n",
              "      <td>PARIS</td>\n",
              "      <td>...</td>\n",
              "      <td>75105</td>\n",
              "      <td>Paris</td>\n",
              "      <td>Ile-de-France</td>\n",
              "      <td>Paris</td>\n",
              "      <td>48.84586899472324, 2.3506515701632913</td>\n",
              "      <td>30</td>\n",
              "      <td>CONTRAT D'ASSOCIATION TOUTES CLASSES</td>\n",
              "      <td>6</td>\n",
              "      <td>MINISTERE DE L'EDUCATION NATIONALE</td>\n",
              "      <td>10/01/1969</td>\n",
              "    </tr>\n",
              "    <tr>\n",
              "      <th>2</th>\n",
              "      <td>0750153J</td>\n",
              "      <td>E.P.PR SAINT-VICTOR 35 rue Jussieu</td>\n",
              "      <td>ECOLE PRIMAIRE PRIVEE</td>\n",
              "      <td>SAINT-VICTOR</td>\n",
              "      <td>Privé</td>\n",
              "      <td>35 rue Jussieu</td>\n",
              "      <td>NaN</td>\n",
              "      <td>NaN</td>\n",
              "      <td>75005</td>\n",
              "      <td>PARIS</td>\n",
              "      <td>...</td>\n",
              "      <td>75105</td>\n",
              "      <td>Paris</td>\n",
              "      <td>Ile-de-France</td>\n",
              "      <td>Paris</td>\n",
              "      <td>48.84700627040922, 2.3535644367706623</td>\n",
              "      <td>30</td>\n",
              "      <td>CONTRAT D'ASSOCIATION TOUTES CLASSES</td>\n",
              "      <td>6</td>\n",
              "      <td>MINISTERE DE L'EDUCATION NATIONALE</td>\n",
              "      <td>10/01/1969</td>\n",
              "    </tr>\n",
              "    <tr>\n",
              "      <th>3</th>\n",
              "      <td>0750167Z</td>\n",
              "      <td>E.P.PR STANISLAS 22 rue Notre Dame des Champs</td>\n",
              "      <td>ECOLE PRIMAIRE PRIVEE</td>\n",
              "      <td>STANISLAS</td>\n",
              "      <td>Privé</td>\n",
              "      <td>22 rue Notre Dame des Champs</td>\n",
              "      <td>NaN</td>\n",
              "      <td>NaN</td>\n",
              "      <td>75006</td>\n",
              "      <td>PARIS</td>\n",
              "      <td>...</td>\n",
              "      <td>75106</td>\n",
              "      <td>Paris</td>\n",
              "      <td>Ile-de-France</td>\n",
              "      <td>Paris</td>\n",
              "      <td>48.845597026381995, 2.327789770055034</td>\n",
              "      <td>30</td>\n",
              "      <td>CONTRAT D'ASSOCIATION TOUTES CLASSES</td>\n",
              "      <td>6</td>\n",
              "      <td>MINISTERE DE L'EDUCATION NATIONALE</td>\n",
              "      <td>10/01/1969</td>\n",
              "    </tr>\n",
              "    <tr>\n",
              "      <th>4</th>\n",
              "      <td>0750182R</td>\n",
              "      <td>Collège privé Saint Louis</td>\n",
              "      <td>COLLEGE PRIVE</td>\n",
              "      <td>SAINT-LOUIS</td>\n",
              "      <td>Privé</td>\n",
              "      <td>47 rue Montcalm</td>\n",
              "      <td>NaN</td>\n",
              "      <td>NaN</td>\n",
              "      <td>75018</td>\n",
              "      <td>PARIS</td>\n",
              "      <td>...</td>\n",
              "      <td>75118</td>\n",
              "      <td>Paris</td>\n",
              "      <td>Ile-de-France</td>\n",
              "      <td>Paris</td>\n",
              "      <td>48.89418927217453, 2.339726809673218</td>\n",
              "      <td>30</td>\n",
              "      <td>CONTRAT D'ASSOCIATION TOUTES CLASSES</td>\n",
              "      <td>6</td>\n",
              "      <td>MINISTERE DE L'EDUCATION NATIONALE</td>\n",
              "      <td>24/02/1969</td>\n",
              "    </tr>\n",
              "  </tbody>\n",
              "</table>\n",
              "<p>5 rows × 35 columns</p>\n",
              "</div>\n",
              "      <button class=\"colab-df-convert\" onclick=\"convertToInteractive('df-cc18dcba-9bbe-4c49-afa1-d26c29bf03dc')\"\n",
              "              title=\"Convert this dataframe to an interactive table.\"\n",
              "              style=\"display:none;\">\n",
              "        \n",
              "  <svg xmlns=\"http://www.w3.org/2000/svg\" height=\"24px\"viewBox=\"0 0 24 24\"\n",
              "       width=\"24px\">\n",
              "    <path d=\"M0 0h24v24H0V0z\" fill=\"none\"/>\n",
              "    <path d=\"M18.56 5.44l.94 2.06.94-2.06 2.06-.94-2.06-.94-.94-2.06-.94 2.06-2.06.94zm-11 1L8.5 8.5l.94-2.06 2.06-.94-2.06-.94L8.5 2.5l-.94 2.06-2.06.94zm10 10l.94 2.06.94-2.06 2.06-.94-2.06-.94-.94-2.06-.94 2.06-2.06.94z\"/><path d=\"M17.41 7.96l-1.37-1.37c-.4-.4-.92-.59-1.43-.59-.52 0-1.04.2-1.43.59L10.3 9.45l-7.72 7.72c-.78.78-.78 2.05 0 2.83L4 21.41c.39.39.9.59 1.41.59.51 0 1.02-.2 1.41-.59l7.78-7.78 2.81-2.81c.8-.78.8-2.07 0-2.86zM5.41 20L4 18.59l7.72-7.72 1.47 1.35L5.41 20z\"/>\n",
              "  </svg>\n",
              "      </button>\n",
              "      \n",
              "  <style>\n",
              "    .colab-df-container {\n",
              "      display:flex;\n",
              "      flex-wrap:wrap;\n",
              "      gap: 12px;\n",
              "    }\n",
              "\n",
              "    .colab-df-convert {\n",
              "      background-color: #E8F0FE;\n",
              "      border: none;\n",
              "      border-radius: 50%;\n",
              "      cursor: pointer;\n",
              "      display: none;\n",
              "      fill: #1967D2;\n",
              "      height: 32px;\n",
              "      padding: 0 0 0 0;\n",
              "      width: 32px;\n",
              "    }\n",
              "\n",
              "    .colab-df-convert:hover {\n",
              "      background-color: #E2EBFA;\n",
              "      box-shadow: 0px 1px 2px rgba(60, 64, 67, 0.3), 0px 1px 3px 1px rgba(60, 64, 67, 0.15);\n",
              "      fill: #174EA6;\n",
              "    }\n",
              "\n",
              "    [theme=dark] .colab-df-convert {\n",
              "      background-color: #3B4455;\n",
              "      fill: #D2E3FC;\n",
              "    }\n",
              "\n",
              "    [theme=dark] .colab-df-convert:hover {\n",
              "      background-color: #434B5C;\n",
              "      box-shadow: 0px 1px 3px 1px rgba(0, 0, 0, 0.15);\n",
              "      filter: drop-shadow(0px 1px 2px rgba(0, 0, 0, 0.3));\n",
              "      fill: #FFFFFF;\n",
              "    }\n",
              "  </style>\n",
              "\n",
              "      <script>\n",
              "        const buttonEl =\n",
              "          document.querySelector('#df-cc18dcba-9bbe-4c49-afa1-d26c29bf03dc button.colab-df-convert');\n",
              "        buttonEl.style.display =\n",
              "          google.colab.kernel.accessAllowed ? 'block' : 'none';\n",
              "\n",
              "        async function convertToInteractive(key) {\n",
              "          const element = document.querySelector('#df-cc18dcba-9bbe-4c49-afa1-d26c29bf03dc');\n",
              "          const dataTable =\n",
              "            await google.colab.kernel.invokeFunction('convertToInteractive',\n",
              "                                                     [key], {});\n",
              "          if (!dataTable) return;\n",
              "\n",
              "          const docLinkHtml = 'Like what you see? Visit the ' +\n",
              "            '<a target=\"_blank\" href=https://colab.research.google.com/notebooks/data_table.ipynb>data table notebook</a>'\n",
              "            + ' to learn more about interactive tables.';\n",
              "          element.innerHTML = '';\n",
              "          dataTable['output_type'] = 'display_data';\n",
              "          await google.colab.output.renderOutput(dataTable, element);\n",
              "          const docLink = document.createElement('div');\n",
              "          docLink.innerHTML = docLinkHtml;\n",
              "          element.appendChild(docLink);\n",
              "        }\n",
              "      </script>\n",
              "    </div>\n",
              "  </div>\n",
              "  "
            ]
          },
          "metadata": {},
          "execution_count": 5
        }
      ]
    },
    {
      "cell_type": "code",
      "source": [
        "df.size"
      ],
      "metadata": {
        "colab": {
          "base_uri": "https://localhost:8080/"
        },
        "id": "aDz_pt1l4Oi0",
        "outputId": "fae06aca-6dc3-4f8d-ceb7-c6a091ab9c56"
      },
      "execution_count": 6,
      "outputs": [
        {
          "output_type": "execute_result",
          "data": {
            "text/plain": [
              "47145"
            ]
          },
          "metadata": {},
          "execution_count": 6
        }
      ]
    },
    {
      "cell_type": "code",
      "source": [
        "df.columns"
      ],
      "metadata": {
        "colab": {
          "base_uri": "https://localhost:8080/"
        },
        "id": "oD7n9xP3zpHT",
        "outputId": "319a930e-389a-4cc1-96f0-770980be93ef"
      },
      "execution_count": 7,
      "outputs": [
        {
          "output_type": "execute_result",
          "data": {
            "text/plain": [
              "Int64Index([ 0,  1,  2,  3,  4,  5,  6,  7,  8,  9, 10, 11, 12, 13, 14, 15, 16,\n",
              "            17, 18, 19, 20, 21, 22, 23, 24, 25, 26, 27, 28, 29, 30, 31, 32, 33,\n",
              "            34],\n",
              "           dtype='int64')"
            ]
          },
          "metadata": {},
          "execution_count": 7
        }
      ]
    },
    {
      "cell_type": "code",
      "source": [
        "L = [df[i][0] for i in range(35)]\n",
        "print(L)"
      ],
      "metadata": {
        "colab": {
          "base_uri": "https://localhost:8080/"
        },
        "id": "aeMI_FxJ0r07",
        "outputId": "570d6238-6456-4987-ef3e-cfb2bcd1023d"
      },
      "execution_count": 8,
      "outputs": [
        {
          "output_type": "stream",
          "name": "stdout",
          "text": [
            "['Code établissement', 'Appellation officielle', 'Dénomination principale', 'Patronyme uai', 'Secteur Public/Privé', 'Adresse', 'Lieu dit', 'Boite postale', 'Code postal', \"Localite d'acheminement\", 'Commune', 'Coordonnee X', 'Coordonnee Y', 'EPSG', 'Latitude', 'Longitude', \"Qualité d'appariement\", 'Localisation', 'Code nature', 'Nature', 'Code état établissement', 'Etat établissement', 'Code département', 'Code région', 'Code académie', 'Code commune', 'Département', 'Région', 'Académie', 'Position', 'secteur_prive_code_type_contrat', 'secteur_prive_libelle_type_contrat', 'code_ministere', 'libelle_ministere', 'date_ouverture']\n"
          ]
        }
      ]
    },
    {
      "cell_type": "code",
      "source": [
        "df.columns = L"
      ],
      "metadata": {
        "id": "DiwLGKaX1I8A"
      },
      "execution_count": 9,
      "outputs": []
    },
    {
      "cell_type": "code",
      "source": [
        "df.head()"
      ],
      "metadata": {
        "colab": {
          "base_uri": "https://localhost:8080/",
          "height": 569
        },
        "id": "REQyIUhq1ObY",
        "outputId": "9e0c2dfd-5473-4549-d453-191624e84de7"
      },
      "execution_count": 10,
      "outputs": [
        {
          "output_type": "execute_result",
          "data": {
            "text/plain": [
              "   Code établissement                             Appellation officielle  \\\n",
              "0  Code établissement                             Appellation officielle   \n",
              "1            0750150F  E.P.PR SAINTE-GENEVIEVE 65 rue du Cardinal Lem...   \n",
              "2            0750153J                 E.P.PR SAINT-VICTOR 35 rue Jussieu   \n",
              "3            0750167Z      E.P.PR STANISLAS 22 rue Notre Dame des Champs   \n",
              "4            0750182R                          Collège privé Saint Louis   \n",
              "\n",
              "   Dénomination principale     Patronyme uai  Secteur Public/Privé  \\\n",
              "0  Dénomination principale     Patronyme uai  Secteur Public/Privé   \n",
              "1    ECOLE PRIMAIRE PRIVEE  SAINTE-GENEVIEVE                 Privé   \n",
              "2    ECOLE PRIMAIRE PRIVEE      SAINT-VICTOR                 Privé   \n",
              "3    ECOLE PRIMAIRE PRIVEE         STANISLAS                 Privé   \n",
              "4            COLLEGE PRIVE       SAINT-LOUIS                 Privé   \n",
              "\n",
              "                        Adresse  Lieu dit  Boite postale  Code postal  \\\n",
              "0                       Adresse  Lieu dit  Boite postale  Code postal   \n",
              "1    65 rue du Cardinal Lemoine       NaN            NaN        75005   \n",
              "2                35 rue Jussieu       NaN            NaN        75005   \n",
              "3  22 rue Notre Dame des Champs       NaN            NaN        75006   \n",
              "4               47 rue Montcalm       NaN            NaN        75018   \n",
              "\n",
              "   Localite d'acheminement  ...  Code commune  Département         Région  \\\n",
              "0  Localite d'acheminement  ...  Code commune  Département         Région   \n",
              "1                    PARIS  ...         75105        Paris  Ile-de-France   \n",
              "2                    PARIS  ...         75105        Paris  Ile-de-France   \n",
              "3                    PARIS  ...         75106        Paris  Ile-de-France   \n",
              "4                    PARIS  ...         75118        Paris  Ile-de-France   \n",
              "\n",
              "   Académie                               Position  \\\n",
              "0  Académie                               Position   \n",
              "1     Paris  48.84586899472324, 2.3506515701632913   \n",
              "2     Paris  48.84700627040922, 2.3535644367706623   \n",
              "3     Paris  48.845597026381995, 2.327789770055034   \n",
              "4     Paris   48.89418927217453, 2.339726809673218   \n",
              "\n",
              "   secteur_prive_code_type_contrat    secteur_prive_libelle_type_contrat  \\\n",
              "0  secteur_prive_code_type_contrat    secteur_prive_libelle_type_contrat   \n",
              "1                               30  CONTRAT D'ASSOCIATION TOUTES CLASSES   \n",
              "2                               30  CONTRAT D'ASSOCIATION TOUTES CLASSES   \n",
              "3                               30  CONTRAT D'ASSOCIATION TOUTES CLASSES   \n",
              "4                               30  CONTRAT D'ASSOCIATION TOUTES CLASSES   \n",
              "\n",
              "   code_ministere                   libelle_ministere  date_ouverture  \n",
              "0  code_ministere                   libelle_ministere  date_ouverture  \n",
              "1               6  MINISTERE DE L'EDUCATION NATIONALE      10/01/1969  \n",
              "2               6  MINISTERE DE L'EDUCATION NATIONALE      10/01/1969  \n",
              "3               6  MINISTERE DE L'EDUCATION NATIONALE      10/01/1969  \n",
              "4               6  MINISTERE DE L'EDUCATION NATIONALE      24/02/1969  \n",
              "\n",
              "[5 rows x 35 columns]"
            ],
            "text/html": [
              "\n",
              "  <div id=\"df-110c5a4b-22e4-40c2-aa56-d07edd1b8524\">\n",
              "    <div class=\"colab-df-container\">\n",
              "      <div>\n",
              "<style scoped>\n",
              "    .dataframe tbody tr th:only-of-type {\n",
              "        vertical-align: middle;\n",
              "    }\n",
              "\n",
              "    .dataframe tbody tr th {\n",
              "        vertical-align: top;\n",
              "    }\n",
              "\n",
              "    .dataframe thead th {\n",
              "        text-align: right;\n",
              "    }\n",
              "</style>\n",
              "<table border=\"1\" class=\"dataframe\">\n",
              "  <thead>\n",
              "    <tr style=\"text-align: right;\">\n",
              "      <th></th>\n",
              "      <th>Code établissement</th>\n",
              "      <th>Appellation officielle</th>\n",
              "      <th>Dénomination principale</th>\n",
              "      <th>Patronyme uai</th>\n",
              "      <th>Secteur Public/Privé</th>\n",
              "      <th>Adresse</th>\n",
              "      <th>Lieu dit</th>\n",
              "      <th>Boite postale</th>\n",
              "      <th>Code postal</th>\n",
              "      <th>Localite d'acheminement</th>\n",
              "      <th>...</th>\n",
              "      <th>Code commune</th>\n",
              "      <th>Département</th>\n",
              "      <th>Région</th>\n",
              "      <th>Académie</th>\n",
              "      <th>Position</th>\n",
              "      <th>secteur_prive_code_type_contrat</th>\n",
              "      <th>secteur_prive_libelle_type_contrat</th>\n",
              "      <th>code_ministere</th>\n",
              "      <th>libelle_ministere</th>\n",
              "      <th>date_ouverture</th>\n",
              "    </tr>\n",
              "  </thead>\n",
              "  <tbody>\n",
              "    <tr>\n",
              "      <th>0</th>\n",
              "      <td>Code établissement</td>\n",
              "      <td>Appellation officielle</td>\n",
              "      <td>Dénomination principale</td>\n",
              "      <td>Patronyme uai</td>\n",
              "      <td>Secteur Public/Privé</td>\n",
              "      <td>Adresse</td>\n",
              "      <td>Lieu dit</td>\n",
              "      <td>Boite postale</td>\n",
              "      <td>Code postal</td>\n",
              "      <td>Localite d'acheminement</td>\n",
              "      <td>...</td>\n",
              "      <td>Code commune</td>\n",
              "      <td>Département</td>\n",
              "      <td>Région</td>\n",
              "      <td>Académie</td>\n",
              "      <td>Position</td>\n",
              "      <td>secteur_prive_code_type_contrat</td>\n",
              "      <td>secteur_prive_libelle_type_contrat</td>\n",
              "      <td>code_ministere</td>\n",
              "      <td>libelle_ministere</td>\n",
              "      <td>date_ouverture</td>\n",
              "    </tr>\n",
              "    <tr>\n",
              "      <th>1</th>\n",
              "      <td>0750150F</td>\n",
              "      <td>E.P.PR SAINTE-GENEVIEVE 65 rue du Cardinal Lem...</td>\n",
              "      <td>ECOLE PRIMAIRE PRIVEE</td>\n",
              "      <td>SAINTE-GENEVIEVE</td>\n",
              "      <td>Privé</td>\n",
              "      <td>65 rue du Cardinal Lemoine</td>\n",
              "      <td>NaN</td>\n",
              "      <td>NaN</td>\n",
              "      <td>75005</td>\n",
              "      <td>PARIS</td>\n",
              "      <td>...</td>\n",
              "      <td>75105</td>\n",
              "      <td>Paris</td>\n",
              "      <td>Ile-de-France</td>\n",
              "      <td>Paris</td>\n",
              "      <td>48.84586899472324, 2.3506515701632913</td>\n",
              "      <td>30</td>\n",
              "      <td>CONTRAT D'ASSOCIATION TOUTES CLASSES</td>\n",
              "      <td>6</td>\n",
              "      <td>MINISTERE DE L'EDUCATION NATIONALE</td>\n",
              "      <td>10/01/1969</td>\n",
              "    </tr>\n",
              "    <tr>\n",
              "      <th>2</th>\n",
              "      <td>0750153J</td>\n",
              "      <td>E.P.PR SAINT-VICTOR 35 rue Jussieu</td>\n",
              "      <td>ECOLE PRIMAIRE PRIVEE</td>\n",
              "      <td>SAINT-VICTOR</td>\n",
              "      <td>Privé</td>\n",
              "      <td>35 rue Jussieu</td>\n",
              "      <td>NaN</td>\n",
              "      <td>NaN</td>\n",
              "      <td>75005</td>\n",
              "      <td>PARIS</td>\n",
              "      <td>...</td>\n",
              "      <td>75105</td>\n",
              "      <td>Paris</td>\n",
              "      <td>Ile-de-France</td>\n",
              "      <td>Paris</td>\n",
              "      <td>48.84700627040922, 2.3535644367706623</td>\n",
              "      <td>30</td>\n",
              "      <td>CONTRAT D'ASSOCIATION TOUTES CLASSES</td>\n",
              "      <td>6</td>\n",
              "      <td>MINISTERE DE L'EDUCATION NATIONALE</td>\n",
              "      <td>10/01/1969</td>\n",
              "    </tr>\n",
              "    <tr>\n",
              "      <th>3</th>\n",
              "      <td>0750167Z</td>\n",
              "      <td>E.P.PR STANISLAS 22 rue Notre Dame des Champs</td>\n",
              "      <td>ECOLE PRIMAIRE PRIVEE</td>\n",
              "      <td>STANISLAS</td>\n",
              "      <td>Privé</td>\n",
              "      <td>22 rue Notre Dame des Champs</td>\n",
              "      <td>NaN</td>\n",
              "      <td>NaN</td>\n",
              "      <td>75006</td>\n",
              "      <td>PARIS</td>\n",
              "      <td>...</td>\n",
              "      <td>75106</td>\n",
              "      <td>Paris</td>\n",
              "      <td>Ile-de-France</td>\n",
              "      <td>Paris</td>\n",
              "      <td>48.845597026381995, 2.327789770055034</td>\n",
              "      <td>30</td>\n",
              "      <td>CONTRAT D'ASSOCIATION TOUTES CLASSES</td>\n",
              "      <td>6</td>\n",
              "      <td>MINISTERE DE L'EDUCATION NATIONALE</td>\n",
              "      <td>10/01/1969</td>\n",
              "    </tr>\n",
              "    <tr>\n",
              "      <th>4</th>\n",
              "      <td>0750182R</td>\n",
              "      <td>Collège privé Saint Louis</td>\n",
              "      <td>COLLEGE PRIVE</td>\n",
              "      <td>SAINT-LOUIS</td>\n",
              "      <td>Privé</td>\n",
              "      <td>47 rue Montcalm</td>\n",
              "      <td>NaN</td>\n",
              "      <td>NaN</td>\n",
              "      <td>75018</td>\n",
              "      <td>PARIS</td>\n",
              "      <td>...</td>\n",
              "      <td>75118</td>\n",
              "      <td>Paris</td>\n",
              "      <td>Ile-de-France</td>\n",
              "      <td>Paris</td>\n",
              "      <td>48.89418927217453, 2.339726809673218</td>\n",
              "      <td>30</td>\n",
              "      <td>CONTRAT D'ASSOCIATION TOUTES CLASSES</td>\n",
              "      <td>6</td>\n",
              "      <td>MINISTERE DE L'EDUCATION NATIONALE</td>\n",
              "      <td>24/02/1969</td>\n",
              "    </tr>\n",
              "  </tbody>\n",
              "</table>\n",
              "<p>5 rows × 35 columns</p>\n",
              "</div>\n",
              "      <button class=\"colab-df-convert\" onclick=\"convertToInteractive('df-110c5a4b-22e4-40c2-aa56-d07edd1b8524')\"\n",
              "              title=\"Convert this dataframe to an interactive table.\"\n",
              "              style=\"display:none;\">\n",
              "        \n",
              "  <svg xmlns=\"http://www.w3.org/2000/svg\" height=\"24px\"viewBox=\"0 0 24 24\"\n",
              "       width=\"24px\">\n",
              "    <path d=\"M0 0h24v24H0V0z\" fill=\"none\"/>\n",
              "    <path d=\"M18.56 5.44l.94 2.06.94-2.06 2.06-.94-2.06-.94-.94-2.06-.94 2.06-2.06.94zm-11 1L8.5 8.5l.94-2.06 2.06-.94-2.06-.94L8.5 2.5l-.94 2.06-2.06.94zm10 10l.94 2.06.94-2.06 2.06-.94-2.06-.94-.94-2.06-.94 2.06-2.06.94z\"/><path d=\"M17.41 7.96l-1.37-1.37c-.4-.4-.92-.59-1.43-.59-.52 0-1.04.2-1.43.59L10.3 9.45l-7.72 7.72c-.78.78-.78 2.05 0 2.83L4 21.41c.39.39.9.59 1.41.59.51 0 1.02-.2 1.41-.59l7.78-7.78 2.81-2.81c.8-.78.8-2.07 0-2.86zM5.41 20L4 18.59l7.72-7.72 1.47 1.35L5.41 20z\"/>\n",
              "  </svg>\n",
              "      </button>\n",
              "      \n",
              "  <style>\n",
              "    .colab-df-container {\n",
              "      display:flex;\n",
              "      flex-wrap:wrap;\n",
              "      gap: 12px;\n",
              "    }\n",
              "\n",
              "    .colab-df-convert {\n",
              "      background-color: #E8F0FE;\n",
              "      border: none;\n",
              "      border-radius: 50%;\n",
              "      cursor: pointer;\n",
              "      display: none;\n",
              "      fill: #1967D2;\n",
              "      height: 32px;\n",
              "      padding: 0 0 0 0;\n",
              "      width: 32px;\n",
              "    }\n",
              "\n",
              "    .colab-df-convert:hover {\n",
              "      background-color: #E2EBFA;\n",
              "      box-shadow: 0px 1px 2px rgba(60, 64, 67, 0.3), 0px 1px 3px 1px rgba(60, 64, 67, 0.15);\n",
              "      fill: #174EA6;\n",
              "    }\n",
              "\n",
              "    [theme=dark] .colab-df-convert {\n",
              "      background-color: #3B4455;\n",
              "      fill: #D2E3FC;\n",
              "    }\n",
              "\n",
              "    [theme=dark] .colab-df-convert:hover {\n",
              "      background-color: #434B5C;\n",
              "      box-shadow: 0px 1px 3px 1px rgba(0, 0, 0, 0.15);\n",
              "      filter: drop-shadow(0px 1px 2px rgba(0, 0, 0, 0.3));\n",
              "      fill: #FFFFFF;\n",
              "    }\n",
              "  </style>\n",
              "\n",
              "      <script>\n",
              "        const buttonEl =\n",
              "          document.querySelector('#df-110c5a4b-22e4-40c2-aa56-d07edd1b8524 button.colab-df-convert');\n",
              "        buttonEl.style.display =\n",
              "          google.colab.kernel.accessAllowed ? 'block' : 'none';\n",
              "\n",
              "        async function convertToInteractive(key) {\n",
              "          const element = document.querySelector('#df-110c5a4b-22e4-40c2-aa56-d07edd1b8524');\n",
              "          const dataTable =\n",
              "            await google.colab.kernel.invokeFunction('convertToInteractive',\n",
              "                                                     [key], {});\n",
              "          if (!dataTable) return;\n",
              "\n",
              "          const docLinkHtml = 'Like what you see? Visit the ' +\n",
              "            '<a target=\"_blank\" href=https://colab.research.google.com/notebooks/data_table.ipynb>data table notebook</a>'\n",
              "            + ' to learn more about interactive tables.';\n",
              "          element.innerHTML = '';\n",
              "          dataTable['output_type'] = 'display_data';\n",
              "          await google.colab.output.renderOutput(dataTable, element);\n",
              "          const docLink = document.createElement('div');\n",
              "          docLink.innerHTML = docLinkHtml;\n",
              "          element.appendChild(docLink);\n",
              "        }\n",
              "      </script>\n",
              "    </div>\n",
              "  </div>\n",
              "  "
            ]
          },
          "metadata": {},
          "execution_count": 10
        }
      ]
    },
    {
      "cell_type": "code",
      "source": [
        "df.drop([0], axis = 0, inplace = True)"
      ],
      "metadata": {
        "id": "UiMhTOSqMVJA"
      },
      "execution_count": 11,
      "outputs": []
    },
    {
      "cell_type": "code",
      "source": [
        "df.head()"
      ],
      "metadata": {
        "colab": {
          "base_uri": "https://localhost:8080/",
          "height": 603
        },
        "id": "e5iAwtEmNzJ1",
        "outputId": "1ad7d23e-762c-4389-8bce-7877a441cf27"
      },
      "execution_count": 12,
      "outputs": [
        {
          "output_type": "execute_result",
          "data": {
            "text/plain": [
              "  Code établissement                             Appellation officielle  \\\n",
              "1           0750150F  E.P.PR SAINTE-GENEVIEVE 65 rue du Cardinal Lem...   \n",
              "2           0750153J                 E.P.PR SAINT-VICTOR 35 rue Jussieu   \n",
              "3           0750167Z      E.P.PR STANISLAS 22 rue Notre Dame des Champs   \n",
              "4           0750182R                          Collège privé Saint Louis   \n",
              "5           0750215B            E.P.PR SAINT-LAURENT 184 rue la Fayette   \n",
              "\n",
              "  Dénomination principale     Patronyme uai Secteur Public/Privé  \\\n",
              "1   ECOLE PRIMAIRE PRIVEE  SAINTE-GENEVIEVE                Privé   \n",
              "2   ECOLE PRIMAIRE PRIVEE      SAINT-VICTOR                Privé   \n",
              "3   ECOLE PRIMAIRE PRIVEE         STANISLAS                Privé   \n",
              "4           COLLEGE PRIVE       SAINT-LOUIS                Privé   \n",
              "5   ECOLE PRIMAIRE PRIVEE     SAINT-LAURENT                Privé   \n",
              "\n",
              "                        Adresse Lieu dit Boite postale Code postal  \\\n",
              "1    65 rue du Cardinal Lemoine      NaN           NaN       75005   \n",
              "2                35 rue Jussieu      NaN           NaN       75005   \n",
              "3  22 rue Notre Dame des Champs      NaN           NaN       75006   \n",
              "4               47 rue Montcalm      NaN           NaN       75018   \n",
              "5            184 rue la Fayette      NaN           NaN       75010   \n",
              "\n",
              "  Localite d'acheminement  ... Code commune Département         Région  \\\n",
              "1                   PARIS  ...        75105       Paris  Ile-de-France   \n",
              "2                   PARIS  ...        75105       Paris  Ile-de-France   \n",
              "3                   PARIS  ...        75106       Paris  Ile-de-France   \n",
              "4                   PARIS  ...        75118       Paris  Ile-de-France   \n",
              "5                   PARIS  ...        75110       Paris  Ile-de-France   \n",
              "\n",
              "  Académie                               Position  \\\n",
              "1    Paris  48.84586899472324, 2.3506515701632913   \n",
              "2    Paris  48.84700627040922, 2.3535644367706623   \n",
              "3    Paris  48.845597026381995, 2.327789770055034   \n",
              "4    Paris   48.89418927217453, 2.339726809673218   \n",
              "5    Paris     48.88075497521155, 2.3629372698656   \n",
              "\n",
              "  secteur_prive_code_type_contrat    secteur_prive_libelle_type_contrat  \\\n",
              "1                              30  CONTRAT D'ASSOCIATION TOUTES CLASSES   \n",
              "2                              30  CONTRAT D'ASSOCIATION TOUTES CLASSES   \n",
              "3                              30  CONTRAT D'ASSOCIATION TOUTES CLASSES   \n",
              "4                              30  CONTRAT D'ASSOCIATION TOUTES CLASSES   \n",
              "5                              30  CONTRAT D'ASSOCIATION TOUTES CLASSES   \n",
              "\n",
              "  code_ministere                   libelle_ministere date_ouverture  \n",
              "1              6  MINISTERE DE L'EDUCATION NATIONALE     10/01/1969  \n",
              "2              6  MINISTERE DE L'EDUCATION NATIONALE     10/01/1969  \n",
              "3              6  MINISTERE DE L'EDUCATION NATIONALE     10/01/1969  \n",
              "4              6  MINISTERE DE L'EDUCATION NATIONALE     24/02/1969  \n",
              "5              6  MINISTERE DE L'EDUCATION NATIONALE     15/01/1969  \n",
              "\n",
              "[5 rows x 35 columns]"
            ],
            "text/html": [
              "\n",
              "  <div id=\"df-73d8df8e-ea30-4647-9cc6-47cef9e38fdd\">\n",
              "    <div class=\"colab-df-container\">\n",
              "      <div>\n",
              "<style scoped>\n",
              "    .dataframe tbody tr th:only-of-type {\n",
              "        vertical-align: middle;\n",
              "    }\n",
              "\n",
              "    .dataframe tbody tr th {\n",
              "        vertical-align: top;\n",
              "    }\n",
              "\n",
              "    .dataframe thead th {\n",
              "        text-align: right;\n",
              "    }\n",
              "</style>\n",
              "<table border=\"1\" class=\"dataframe\">\n",
              "  <thead>\n",
              "    <tr style=\"text-align: right;\">\n",
              "      <th></th>\n",
              "      <th>Code établissement</th>\n",
              "      <th>Appellation officielle</th>\n",
              "      <th>Dénomination principale</th>\n",
              "      <th>Patronyme uai</th>\n",
              "      <th>Secteur Public/Privé</th>\n",
              "      <th>Adresse</th>\n",
              "      <th>Lieu dit</th>\n",
              "      <th>Boite postale</th>\n",
              "      <th>Code postal</th>\n",
              "      <th>Localite d'acheminement</th>\n",
              "      <th>...</th>\n",
              "      <th>Code commune</th>\n",
              "      <th>Département</th>\n",
              "      <th>Région</th>\n",
              "      <th>Académie</th>\n",
              "      <th>Position</th>\n",
              "      <th>secteur_prive_code_type_contrat</th>\n",
              "      <th>secteur_prive_libelle_type_contrat</th>\n",
              "      <th>code_ministere</th>\n",
              "      <th>libelle_ministere</th>\n",
              "      <th>date_ouverture</th>\n",
              "    </tr>\n",
              "  </thead>\n",
              "  <tbody>\n",
              "    <tr>\n",
              "      <th>1</th>\n",
              "      <td>0750150F</td>\n",
              "      <td>E.P.PR SAINTE-GENEVIEVE 65 rue du Cardinal Lem...</td>\n",
              "      <td>ECOLE PRIMAIRE PRIVEE</td>\n",
              "      <td>SAINTE-GENEVIEVE</td>\n",
              "      <td>Privé</td>\n",
              "      <td>65 rue du Cardinal Lemoine</td>\n",
              "      <td>NaN</td>\n",
              "      <td>NaN</td>\n",
              "      <td>75005</td>\n",
              "      <td>PARIS</td>\n",
              "      <td>...</td>\n",
              "      <td>75105</td>\n",
              "      <td>Paris</td>\n",
              "      <td>Ile-de-France</td>\n",
              "      <td>Paris</td>\n",
              "      <td>48.84586899472324, 2.3506515701632913</td>\n",
              "      <td>30</td>\n",
              "      <td>CONTRAT D'ASSOCIATION TOUTES CLASSES</td>\n",
              "      <td>6</td>\n",
              "      <td>MINISTERE DE L'EDUCATION NATIONALE</td>\n",
              "      <td>10/01/1969</td>\n",
              "    </tr>\n",
              "    <tr>\n",
              "      <th>2</th>\n",
              "      <td>0750153J</td>\n",
              "      <td>E.P.PR SAINT-VICTOR 35 rue Jussieu</td>\n",
              "      <td>ECOLE PRIMAIRE PRIVEE</td>\n",
              "      <td>SAINT-VICTOR</td>\n",
              "      <td>Privé</td>\n",
              "      <td>35 rue Jussieu</td>\n",
              "      <td>NaN</td>\n",
              "      <td>NaN</td>\n",
              "      <td>75005</td>\n",
              "      <td>PARIS</td>\n",
              "      <td>...</td>\n",
              "      <td>75105</td>\n",
              "      <td>Paris</td>\n",
              "      <td>Ile-de-France</td>\n",
              "      <td>Paris</td>\n",
              "      <td>48.84700627040922, 2.3535644367706623</td>\n",
              "      <td>30</td>\n",
              "      <td>CONTRAT D'ASSOCIATION TOUTES CLASSES</td>\n",
              "      <td>6</td>\n",
              "      <td>MINISTERE DE L'EDUCATION NATIONALE</td>\n",
              "      <td>10/01/1969</td>\n",
              "    </tr>\n",
              "    <tr>\n",
              "      <th>3</th>\n",
              "      <td>0750167Z</td>\n",
              "      <td>E.P.PR STANISLAS 22 rue Notre Dame des Champs</td>\n",
              "      <td>ECOLE PRIMAIRE PRIVEE</td>\n",
              "      <td>STANISLAS</td>\n",
              "      <td>Privé</td>\n",
              "      <td>22 rue Notre Dame des Champs</td>\n",
              "      <td>NaN</td>\n",
              "      <td>NaN</td>\n",
              "      <td>75006</td>\n",
              "      <td>PARIS</td>\n",
              "      <td>...</td>\n",
              "      <td>75106</td>\n",
              "      <td>Paris</td>\n",
              "      <td>Ile-de-France</td>\n",
              "      <td>Paris</td>\n",
              "      <td>48.845597026381995, 2.327789770055034</td>\n",
              "      <td>30</td>\n",
              "      <td>CONTRAT D'ASSOCIATION TOUTES CLASSES</td>\n",
              "      <td>6</td>\n",
              "      <td>MINISTERE DE L'EDUCATION NATIONALE</td>\n",
              "      <td>10/01/1969</td>\n",
              "    </tr>\n",
              "    <tr>\n",
              "      <th>4</th>\n",
              "      <td>0750182R</td>\n",
              "      <td>Collège privé Saint Louis</td>\n",
              "      <td>COLLEGE PRIVE</td>\n",
              "      <td>SAINT-LOUIS</td>\n",
              "      <td>Privé</td>\n",
              "      <td>47 rue Montcalm</td>\n",
              "      <td>NaN</td>\n",
              "      <td>NaN</td>\n",
              "      <td>75018</td>\n",
              "      <td>PARIS</td>\n",
              "      <td>...</td>\n",
              "      <td>75118</td>\n",
              "      <td>Paris</td>\n",
              "      <td>Ile-de-France</td>\n",
              "      <td>Paris</td>\n",
              "      <td>48.89418927217453, 2.339726809673218</td>\n",
              "      <td>30</td>\n",
              "      <td>CONTRAT D'ASSOCIATION TOUTES CLASSES</td>\n",
              "      <td>6</td>\n",
              "      <td>MINISTERE DE L'EDUCATION NATIONALE</td>\n",
              "      <td>24/02/1969</td>\n",
              "    </tr>\n",
              "    <tr>\n",
              "      <th>5</th>\n",
              "      <td>0750215B</td>\n",
              "      <td>E.P.PR SAINT-LAURENT 184 rue la Fayette</td>\n",
              "      <td>ECOLE PRIMAIRE PRIVEE</td>\n",
              "      <td>SAINT-LAURENT</td>\n",
              "      <td>Privé</td>\n",
              "      <td>184 rue la Fayette</td>\n",
              "      <td>NaN</td>\n",
              "      <td>NaN</td>\n",
              "      <td>75010</td>\n",
              "      <td>PARIS</td>\n",
              "      <td>...</td>\n",
              "      <td>75110</td>\n",
              "      <td>Paris</td>\n",
              "      <td>Ile-de-France</td>\n",
              "      <td>Paris</td>\n",
              "      <td>48.88075497521155, 2.3629372698656</td>\n",
              "      <td>30</td>\n",
              "      <td>CONTRAT D'ASSOCIATION TOUTES CLASSES</td>\n",
              "      <td>6</td>\n",
              "      <td>MINISTERE DE L'EDUCATION NATIONALE</td>\n",
              "      <td>15/01/1969</td>\n",
              "    </tr>\n",
              "  </tbody>\n",
              "</table>\n",
              "<p>5 rows × 35 columns</p>\n",
              "</div>\n",
              "      <button class=\"colab-df-convert\" onclick=\"convertToInteractive('df-73d8df8e-ea30-4647-9cc6-47cef9e38fdd')\"\n",
              "              title=\"Convert this dataframe to an interactive table.\"\n",
              "              style=\"display:none;\">\n",
              "        \n",
              "  <svg xmlns=\"http://www.w3.org/2000/svg\" height=\"24px\"viewBox=\"0 0 24 24\"\n",
              "       width=\"24px\">\n",
              "    <path d=\"M0 0h24v24H0V0z\" fill=\"none\"/>\n",
              "    <path d=\"M18.56 5.44l.94 2.06.94-2.06 2.06-.94-2.06-.94-.94-2.06-.94 2.06-2.06.94zm-11 1L8.5 8.5l.94-2.06 2.06-.94-2.06-.94L8.5 2.5l-.94 2.06-2.06.94zm10 10l.94 2.06.94-2.06 2.06-.94-2.06-.94-.94-2.06-.94 2.06-2.06.94z\"/><path d=\"M17.41 7.96l-1.37-1.37c-.4-.4-.92-.59-1.43-.59-.52 0-1.04.2-1.43.59L10.3 9.45l-7.72 7.72c-.78.78-.78 2.05 0 2.83L4 21.41c.39.39.9.59 1.41.59.51 0 1.02-.2 1.41-.59l7.78-7.78 2.81-2.81c.8-.78.8-2.07 0-2.86zM5.41 20L4 18.59l7.72-7.72 1.47 1.35L5.41 20z\"/>\n",
              "  </svg>\n",
              "      </button>\n",
              "      \n",
              "  <style>\n",
              "    .colab-df-container {\n",
              "      display:flex;\n",
              "      flex-wrap:wrap;\n",
              "      gap: 12px;\n",
              "    }\n",
              "\n",
              "    .colab-df-convert {\n",
              "      background-color: #E8F0FE;\n",
              "      border: none;\n",
              "      border-radius: 50%;\n",
              "      cursor: pointer;\n",
              "      display: none;\n",
              "      fill: #1967D2;\n",
              "      height: 32px;\n",
              "      padding: 0 0 0 0;\n",
              "      width: 32px;\n",
              "    }\n",
              "\n",
              "    .colab-df-convert:hover {\n",
              "      background-color: #E2EBFA;\n",
              "      box-shadow: 0px 1px 2px rgba(60, 64, 67, 0.3), 0px 1px 3px 1px rgba(60, 64, 67, 0.15);\n",
              "      fill: #174EA6;\n",
              "    }\n",
              "\n",
              "    [theme=dark] .colab-df-convert {\n",
              "      background-color: #3B4455;\n",
              "      fill: #D2E3FC;\n",
              "    }\n",
              "\n",
              "    [theme=dark] .colab-df-convert:hover {\n",
              "      background-color: #434B5C;\n",
              "      box-shadow: 0px 1px 3px 1px rgba(0, 0, 0, 0.15);\n",
              "      filter: drop-shadow(0px 1px 2px rgba(0, 0, 0, 0.3));\n",
              "      fill: #FFFFFF;\n",
              "    }\n",
              "  </style>\n",
              "\n",
              "      <script>\n",
              "        const buttonEl =\n",
              "          document.querySelector('#df-73d8df8e-ea30-4647-9cc6-47cef9e38fdd button.colab-df-convert');\n",
              "        buttonEl.style.display =\n",
              "          google.colab.kernel.accessAllowed ? 'block' : 'none';\n",
              "\n",
              "        async function convertToInteractive(key) {\n",
              "          const element = document.querySelector('#df-73d8df8e-ea30-4647-9cc6-47cef9e38fdd');\n",
              "          const dataTable =\n",
              "            await google.colab.kernel.invokeFunction('convertToInteractive',\n",
              "                                                     [key], {});\n",
              "          if (!dataTable) return;\n",
              "\n",
              "          const docLinkHtml = 'Like what you see? Visit the ' +\n",
              "            '<a target=\"_blank\" href=https://colab.research.google.com/notebooks/data_table.ipynb>data table notebook</a>'\n",
              "            + ' to learn more about interactive tables.';\n",
              "          element.innerHTML = '';\n",
              "          dataTable['output_type'] = 'display_data';\n",
              "          await google.colab.output.renderOutput(dataTable, element);\n",
              "          const docLink = document.createElement('div');\n",
              "          docLink.innerHTML = docLinkHtml;\n",
              "          element.appendChild(docLink);\n",
              "        }\n",
              "      </script>\n",
              "    </div>\n",
              "  </div>\n",
              "  "
            ]
          },
          "metadata": {},
          "execution_count": 12
        }
      ]
    },
    {
      "cell_type": "code",
      "source": [
        "df.columns"
      ],
      "metadata": {
        "colab": {
          "base_uri": "https://localhost:8080/"
        },
        "id": "_1tcoB0M1o1h",
        "outputId": "07ce86f6-ad18-4586-f8d3-ea0f8706a89d"
      },
      "execution_count": 13,
      "outputs": [
        {
          "output_type": "execute_result",
          "data": {
            "text/plain": [
              "Index(['Code établissement', 'Appellation officielle',\n",
              "       'Dénomination principale', 'Patronyme uai', 'Secteur Public/Privé',\n",
              "       'Adresse', 'Lieu dit', 'Boite postale', 'Code postal',\n",
              "       'Localite d'acheminement', 'Commune', 'Coordonnee X', 'Coordonnee Y',\n",
              "       'EPSG', 'Latitude', 'Longitude', 'Qualité d'appariement',\n",
              "       'Localisation', 'Code nature', 'Nature', 'Code état établissement',\n",
              "       'Etat établissement', 'Code département', 'Code région',\n",
              "       'Code académie', 'Code commune', 'Département', 'Région', 'Académie',\n",
              "       'Position', 'secteur_prive_code_type_contrat',\n",
              "       'secteur_prive_libelle_type_contrat', 'code_ministere',\n",
              "       'libelle_ministere', 'date_ouverture'],\n",
              "      dtype='object')"
            ]
          },
          "metadata": {},
          "execution_count": 13
        }
      ]
    },
    {
      "cell_type": "markdown",
      "source": [
        "On va ici representer les diférentes écoles dans la ville de Paris grâce aux latitudes et longitudes."
      ],
      "metadata": {
        "id": "8b0eEYVX1wbL"
      }
    },
    {
      "cell_type": "code",
      "source": [
        "X = df['Latitude']\n",
        "Y = df['Longitude']"
      ],
      "metadata": {
        "id": "1FX072fb1vmJ"
      },
      "execution_count": 14,
      "outputs": []
    },
    {
      "cell_type": "code",
      "source": [
        "df.columns"
      ],
      "metadata": {
        "colab": {
          "base_uri": "https://localhost:8080/"
        },
        "id": "aZulqpdf6XQQ",
        "outputId": "f30b9890-c5ac-4d48-b238-368e6a4d531f"
      },
      "execution_count": 15,
      "outputs": [
        {
          "output_type": "execute_result",
          "data": {
            "text/plain": [
              "Index(['Code établissement', 'Appellation officielle',\n",
              "       'Dénomination principale', 'Patronyme uai', 'Secteur Public/Privé',\n",
              "       'Adresse', 'Lieu dit', 'Boite postale', 'Code postal',\n",
              "       'Localite d'acheminement', 'Commune', 'Coordonnee X', 'Coordonnee Y',\n",
              "       'EPSG', 'Latitude', 'Longitude', 'Qualité d'appariement',\n",
              "       'Localisation', 'Code nature', 'Nature', 'Code état établissement',\n",
              "       'Etat établissement', 'Code département', 'Code région',\n",
              "       'Code académie', 'Code commune', 'Département', 'Région', 'Académie',\n",
              "       'Position', 'secteur_prive_code_type_contrat',\n",
              "       'secteur_prive_libelle_type_contrat', 'code_ministere',\n",
              "       'libelle_ministere', 'date_ouverture'],\n",
              "      dtype='object')"
            ]
          },
          "metadata": {},
          "execution_count": 15
        }
      ]
    },
    {
      "cell_type": "code",
      "source": [
        "df['Longitude'].head()"
      ],
      "metadata": {
        "colab": {
          "base_uri": "https://localhost:8080/"
        },
        "id": "fF74ho5t7m1e",
        "outputId": "496290eb-9e05-4336-ad86-342b0eea690c"
      },
      "execution_count": 16,
      "outputs": [
        {
          "output_type": "execute_result",
          "data": {
            "text/plain": [
              "1    2.3506515701632913\n",
              "2    2.3535644367706623\n",
              "3     2.327789770055034\n",
              "4     2.339726809673218\n",
              "5       2.3629372698656\n",
              "Name: Longitude, dtype: object"
            ]
          },
          "metadata": {},
          "execution_count": 16
        }
      ]
    },
    {
      "cell_type": "code",
      "source": [
        "float(\"3.4\")"
      ],
      "metadata": {
        "colab": {
          "base_uri": "https://localhost:8080/"
        },
        "id": "TWZkKwJ89fyr",
        "outputId": "4a54a453-c0e7-4bf5-c65c-5bc16e3a287b"
      },
      "execution_count": 17,
      "outputs": [
        {
          "output_type": "execute_result",
          "data": {
            "text/plain": [
              "3.4"
            ]
          },
          "metadata": {},
          "execution_count": 17
        }
      ]
    },
    {
      "cell_type": "code",
      "source": [
        "df[\"Longitude\"].astype(float)"
      ],
      "metadata": {
        "colab": {
          "base_uri": "https://localhost:8080/"
        },
        "id": "2IZ91mboAS_y",
        "outputId": "c5034566-ad28-4412-e983-be0d958e4af8"
      },
      "execution_count": 18,
      "outputs": [
        {
          "output_type": "execute_result",
          "data": {
            "text/plain": [
              "1       2.350652\n",
              "2       2.353564\n",
              "3       2.327790\n",
              "4       2.339727\n",
              "5       2.362937\n",
              "          ...   \n",
              "1342    2.294733\n",
              "1343    2.376138\n",
              "1344         NaN\n",
              "1345         NaN\n",
              "1346         NaN\n",
              "Name: Longitude, Length: 1346, dtype: float64"
            ]
          },
          "metadata": {},
          "execution_count": 18
        }
      ]
    },
    {
      "cell_type": "code",
      "source": [
        "df[\"Latitude\"].astype(float)"
      ],
      "metadata": {
        "colab": {
          "base_uri": "https://localhost:8080/"
        },
        "id": "84OH6ioBqlkE",
        "outputId": "534209b4-efa0-4602-f21a-89ff0982c034"
      },
      "execution_count": 19,
      "outputs": [
        {
          "output_type": "execute_result",
          "data": {
            "text/plain": [
              "1       48.845869\n",
              "2       48.847006\n",
              "3       48.845597\n",
              "4       48.894189\n",
              "5       48.880755\n",
              "          ...    \n",
              "1342    48.850984\n",
              "1343    48.858357\n",
              "1344          NaN\n",
              "1345          NaN\n",
              "1346          NaN\n",
              "Name: Latitude, Length: 1346, dtype: float64"
            ]
          },
          "metadata": {},
          "execution_count": 19
        }
      ]
    },
    {
      "cell_type": "code",
      "source": [
        "df.head()"
      ],
      "metadata": {
        "colab": {
          "base_uri": "https://localhost:8080/",
          "height": 603
        },
        "id": "bbIi4fajtFO5",
        "outputId": "d604ff8b-ed92-4613-d95f-471d60c09144"
      },
      "execution_count": 20,
      "outputs": [
        {
          "output_type": "execute_result",
          "data": {
            "text/plain": [
              "  Code établissement                             Appellation officielle  \\\n",
              "1           0750150F  E.P.PR SAINTE-GENEVIEVE 65 rue du Cardinal Lem...   \n",
              "2           0750153J                 E.P.PR SAINT-VICTOR 35 rue Jussieu   \n",
              "3           0750167Z      E.P.PR STANISLAS 22 rue Notre Dame des Champs   \n",
              "4           0750182R                          Collège privé Saint Louis   \n",
              "5           0750215B            E.P.PR SAINT-LAURENT 184 rue la Fayette   \n",
              "\n",
              "  Dénomination principale     Patronyme uai Secteur Public/Privé  \\\n",
              "1   ECOLE PRIMAIRE PRIVEE  SAINTE-GENEVIEVE                Privé   \n",
              "2   ECOLE PRIMAIRE PRIVEE      SAINT-VICTOR                Privé   \n",
              "3   ECOLE PRIMAIRE PRIVEE         STANISLAS                Privé   \n",
              "4           COLLEGE PRIVE       SAINT-LOUIS                Privé   \n",
              "5   ECOLE PRIMAIRE PRIVEE     SAINT-LAURENT                Privé   \n",
              "\n",
              "                        Adresse Lieu dit Boite postale Code postal  \\\n",
              "1    65 rue du Cardinal Lemoine      NaN           NaN       75005   \n",
              "2                35 rue Jussieu      NaN           NaN       75005   \n",
              "3  22 rue Notre Dame des Champs      NaN           NaN       75006   \n",
              "4               47 rue Montcalm      NaN           NaN       75018   \n",
              "5            184 rue la Fayette      NaN           NaN       75010   \n",
              "\n",
              "  Localite d'acheminement  ... Code commune Département         Région  \\\n",
              "1                   PARIS  ...        75105       Paris  Ile-de-France   \n",
              "2                   PARIS  ...        75105       Paris  Ile-de-France   \n",
              "3                   PARIS  ...        75106       Paris  Ile-de-France   \n",
              "4                   PARIS  ...        75118       Paris  Ile-de-France   \n",
              "5                   PARIS  ...        75110       Paris  Ile-de-France   \n",
              "\n",
              "  Académie                               Position  \\\n",
              "1    Paris  48.84586899472324, 2.3506515701632913   \n",
              "2    Paris  48.84700627040922, 2.3535644367706623   \n",
              "3    Paris  48.845597026381995, 2.327789770055034   \n",
              "4    Paris   48.89418927217453, 2.339726809673218   \n",
              "5    Paris     48.88075497521155, 2.3629372698656   \n",
              "\n",
              "  secteur_prive_code_type_contrat    secteur_prive_libelle_type_contrat  \\\n",
              "1                              30  CONTRAT D'ASSOCIATION TOUTES CLASSES   \n",
              "2                              30  CONTRAT D'ASSOCIATION TOUTES CLASSES   \n",
              "3                              30  CONTRAT D'ASSOCIATION TOUTES CLASSES   \n",
              "4                              30  CONTRAT D'ASSOCIATION TOUTES CLASSES   \n",
              "5                              30  CONTRAT D'ASSOCIATION TOUTES CLASSES   \n",
              "\n",
              "  code_ministere                   libelle_ministere date_ouverture  \n",
              "1              6  MINISTERE DE L'EDUCATION NATIONALE     10/01/1969  \n",
              "2              6  MINISTERE DE L'EDUCATION NATIONALE     10/01/1969  \n",
              "3              6  MINISTERE DE L'EDUCATION NATIONALE     10/01/1969  \n",
              "4              6  MINISTERE DE L'EDUCATION NATIONALE     24/02/1969  \n",
              "5              6  MINISTERE DE L'EDUCATION NATIONALE     15/01/1969  \n",
              "\n",
              "[5 rows x 35 columns]"
            ],
            "text/html": [
              "\n",
              "  <div id=\"df-e7ab454d-af10-48be-bfec-0f4910855410\">\n",
              "    <div class=\"colab-df-container\">\n",
              "      <div>\n",
              "<style scoped>\n",
              "    .dataframe tbody tr th:only-of-type {\n",
              "        vertical-align: middle;\n",
              "    }\n",
              "\n",
              "    .dataframe tbody tr th {\n",
              "        vertical-align: top;\n",
              "    }\n",
              "\n",
              "    .dataframe thead th {\n",
              "        text-align: right;\n",
              "    }\n",
              "</style>\n",
              "<table border=\"1\" class=\"dataframe\">\n",
              "  <thead>\n",
              "    <tr style=\"text-align: right;\">\n",
              "      <th></th>\n",
              "      <th>Code établissement</th>\n",
              "      <th>Appellation officielle</th>\n",
              "      <th>Dénomination principale</th>\n",
              "      <th>Patronyme uai</th>\n",
              "      <th>Secteur Public/Privé</th>\n",
              "      <th>Adresse</th>\n",
              "      <th>Lieu dit</th>\n",
              "      <th>Boite postale</th>\n",
              "      <th>Code postal</th>\n",
              "      <th>Localite d'acheminement</th>\n",
              "      <th>...</th>\n",
              "      <th>Code commune</th>\n",
              "      <th>Département</th>\n",
              "      <th>Région</th>\n",
              "      <th>Académie</th>\n",
              "      <th>Position</th>\n",
              "      <th>secteur_prive_code_type_contrat</th>\n",
              "      <th>secteur_prive_libelle_type_contrat</th>\n",
              "      <th>code_ministere</th>\n",
              "      <th>libelle_ministere</th>\n",
              "      <th>date_ouverture</th>\n",
              "    </tr>\n",
              "  </thead>\n",
              "  <tbody>\n",
              "    <tr>\n",
              "      <th>1</th>\n",
              "      <td>0750150F</td>\n",
              "      <td>E.P.PR SAINTE-GENEVIEVE 65 rue du Cardinal Lem...</td>\n",
              "      <td>ECOLE PRIMAIRE PRIVEE</td>\n",
              "      <td>SAINTE-GENEVIEVE</td>\n",
              "      <td>Privé</td>\n",
              "      <td>65 rue du Cardinal Lemoine</td>\n",
              "      <td>NaN</td>\n",
              "      <td>NaN</td>\n",
              "      <td>75005</td>\n",
              "      <td>PARIS</td>\n",
              "      <td>...</td>\n",
              "      <td>75105</td>\n",
              "      <td>Paris</td>\n",
              "      <td>Ile-de-France</td>\n",
              "      <td>Paris</td>\n",
              "      <td>48.84586899472324, 2.3506515701632913</td>\n",
              "      <td>30</td>\n",
              "      <td>CONTRAT D'ASSOCIATION TOUTES CLASSES</td>\n",
              "      <td>6</td>\n",
              "      <td>MINISTERE DE L'EDUCATION NATIONALE</td>\n",
              "      <td>10/01/1969</td>\n",
              "    </tr>\n",
              "    <tr>\n",
              "      <th>2</th>\n",
              "      <td>0750153J</td>\n",
              "      <td>E.P.PR SAINT-VICTOR 35 rue Jussieu</td>\n",
              "      <td>ECOLE PRIMAIRE PRIVEE</td>\n",
              "      <td>SAINT-VICTOR</td>\n",
              "      <td>Privé</td>\n",
              "      <td>35 rue Jussieu</td>\n",
              "      <td>NaN</td>\n",
              "      <td>NaN</td>\n",
              "      <td>75005</td>\n",
              "      <td>PARIS</td>\n",
              "      <td>...</td>\n",
              "      <td>75105</td>\n",
              "      <td>Paris</td>\n",
              "      <td>Ile-de-France</td>\n",
              "      <td>Paris</td>\n",
              "      <td>48.84700627040922, 2.3535644367706623</td>\n",
              "      <td>30</td>\n",
              "      <td>CONTRAT D'ASSOCIATION TOUTES CLASSES</td>\n",
              "      <td>6</td>\n",
              "      <td>MINISTERE DE L'EDUCATION NATIONALE</td>\n",
              "      <td>10/01/1969</td>\n",
              "    </tr>\n",
              "    <tr>\n",
              "      <th>3</th>\n",
              "      <td>0750167Z</td>\n",
              "      <td>E.P.PR STANISLAS 22 rue Notre Dame des Champs</td>\n",
              "      <td>ECOLE PRIMAIRE PRIVEE</td>\n",
              "      <td>STANISLAS</td>\n",
              "      <td>Privé</td>\n",
              "      <td>22 rue Notre Dame des Champs</td>\n",
              "      <td>NaN</td>\n",
              "      <td>NaN</td>\n",
              "      <td>75006</td>\n",
              "      <td>PARIS</td>\n",
              "      <td>...</td>\n",
              "      <td>75106</td>\n",
              "      <td>Paris</td>\n",
              "      <td>Ile-de-France</td>\n",
              "      <td>Paris</td>\n",
              "      <td>48.845597026381995, 2.327789770055034</td>\n",
              "      <td>30</td>\n",
              "      <td>CONTRAT D'ASSOCIATION TOUTES CLASSES</td>\n",
              "      <td>6</td>\n",
              "      <td>MINISTERE DE L'EDUCATION NATIONALE</td>\n",
              "      <td>10/01/1969</td>\n",
              "    </tr>\n",
              "    <tr>\n",
              "      <th>4</th>\n",
              "      <td>0750182R</td>\n",
              "      <td>Collège privé Saint Louis</td>\n",
              "      <td>COLLEGE PRIVE</td>\n",
              "      <td>SAINT-LOUIS</td>\n",
              "      <td>Privé</td>\n",
              "      <td>47 rue Montcalm</td>\n",
              "      <td>NaN</td>\n",
              "      <td>NaN</td>\n",
              "      <td>75018</td>\n",
              "      <td>PARIS</td>\n",
              "      <td>...</td>\n",
              "      <td>75118</td>\n",
              "      <td>Paris</td>\n",
              "      <td>Ile-de-France</td>\n",
              "      <td>Paris</td>\n",
              "      <td>48.89418927217453, 2.339726809673218</td>\n",
              "      <td>30</td>\n",
              "      <td>CONTRAT D'ASSOCIATION TOUTES CLASSES</td>\n",
              "      <td>6</td>\n",
              "      <td>MINISTERE DE L'EDUCATION NATIONALE</td>\n",
              "      <td>24/02/1969</td>\n",
              "    </tr>\n",
              "    <tr>\n",
              "      <th>5</th>\n",
              "      <td>0750215B</td>\n",
              "      <td>E.P.PR SAINT-LAURENT 184 rue la Fayette</td>\n",
              "      <td>ECOLE PRIMAIRE PRIVEE</td>\n",
              "      <td>SAINT-LAURENT</td>\n",
              "      <td>Privé</td>\n",
              "      <td>184 rue la Fayette</td>\n",
              "      <td>NaN</td>\n",
              "      <td>NaN</td>\n",
              "      <td>75010</td>\n",
              "      <td>PARIS</td>\n",
              "      <td>...</td>\n",
              "      <td>75110</td>\n",
              "      <td>Paris</td>\n",
              "      <td>Ile-de-France</td>\n",
              "      <td>Paris</td>\n",
              "      <td>48.88075497521155, 2.3629372698656</td>\n",
              "      <td>30</td>\n",
              "      <td>CONTRAT D'ASSOCIATION TOUTES CLASSES</td>\n",
              "      <td>6</td>\n",
              "      <td>MINISTERE DE L'EDUCATION NATIONALE</td>\n",
              "      <td>15/01/1969</td>\n",
              "    </tr>\n",
              "  </tbody>\n",
              "</table>\n",
              "<p>5 rows × 35 columns</p>\n",
              "</div>\n",
              "      <button class=\"colab-df-convert\" onclick=\"convertToInteractive('df-e7ab454d-af10-48be-bfec-0f4910855410')\"\n",
              "              title=\"Convert this dataframe to an interactive table.\"\n",
              "              style=\"display:none;\">\n",
              "        \n",
              "  <svg xmlns=\"http://www.w3.org/2000/svg\" height=\"24px\"viewBox=\"0 0 24 24\"\n",
              "       width=\"24px\">\n",
              "    <path d=\"M0 0h24v24H0V0z\" fill=\"none\"/>\n",
              "    <path d=\"M18.56 5.44l.94 2.06.94-2.06 2.06-.94-2.06-.94-.94-2.06-.94 2.06-2.06.94zm-11 1L8.5 8.5l.94-2.06 2.06-.94-2.06-.94L8.5 2.5l-.94 2.06-2.06.94zm10 10l.94 2.06.94-2.06 2.06-.94-2.06-.94-.94-2.06-.94 2.06-2.06.94z\"/><path d=\"M17.41 7.96l-1.37-1.37c-.4-.4-.92-.59-1.43-.59-.52 0-1.04.2-1.43.59L10.3 9.45l-7.72 7.72c-.78.78-.78 2.05 0 2.83L4 21.41c.39.39.9.59 1.41.59.51 0 1.02-.2 1.41-.59l7.78-7.78 2.81-2.81c.8-.78.8-2.07 0-2.86zM5.41 20L4 18.59l7.72-7.72 1.47 1.35L5.41 20z\"/>\n",
              "  </svg>\n",
              "      </button>\n",
              "      \n",
              "  <style>\n",
              "    .colab-df-container {\n",
              "      display:flex;\n",
              "      flex-wrap:wrap;\n",
              "      gap: 12px;\n",
              "    }\n",
              "\n",
              "    .colab-df-convert {\n",
              "      background-color: #E8F0FE;\n",
              "      border: none;\n",
              "      border-radius: 50%;\n",
              "      cursor: pointer;\n",
              "      display: none;\n",
              "      fill: #1967D2;\n",
              "      height: 32px;\n",
              "      padding: 0 0 0 0;\n",
              "      width: 32px;\n",
              "    }\n",
              "\n",
              "    .colab-df-convert:hover {\n",
              "      background-color: #E2EBFA;\n",
              "      box-shadow: 0px 1px 2px rgba(60, 64, 67, 0.3), 0px 1px 3px 1px rgba(60, 64, 67, 0.15);\n",
              "      fill: #174EA6;\n",
              "    }\n",
              "\n",
              "    [theme=dark] .colab-df-convert {\n",
              "      background-color: #3B4455;\n",
              "      fill: #D2E3FC;\n",
              "    }\n",
              "\n",
              "    [theme=dark] .colab-df-convert:hover {\n",
              "      background-color: #434B5C;\n",
              "      box-shadow: 0px 1px 3px 1px rgba(0, 0, 0, 0.15);\n",
              "      filter: drop-shadow(0px 1px 2px rgba(0, 0, 0, 0.3));\n",
              "      fill: #FFFFFF;\n",
              "    }\n",
              "  </style>\n",
              "\n",
              "      <script>\n",
              "        const buttonEl =\n",
              "          document.querySelector('#df-e7ab454d-af10-48be-bfec-0f4910855410 button.colab-df-convert');\n",
              "        buttonEl.style.display =\n",
              "          google.colab.kernel.accessAllowed ? 'block' : 'none';\n",
              "\n",
              "        async function convertToInteractive(key) {\n",
              "          const element = document.querySelector('#df-e7ab454d-af10-48be-bfec-0f4910855410');\n",
              "          const dataTable =\n",
              "            await google.colab.kernel.invokeFunction('convertToInteractive',\n",
              "                                                     [key], {});\n",
              "          if (!dataTable) return;\n",
              "\n",
              "          const docLinkHtml = 'Like what you see? Visit the ' +\n",
              "            '<a target=\"_blank\" href=https://colab.research.google.com/notebooks/data_table.ipynb>data table notebook</a>'\n",
              "            + ' to learn more about interactive tables.';\n",
              "          element.innerHTML = '';\n",
              "          dataTable['output_type'] = 'display_data';\n",
              "          await google.colab.output.renderOutput(dataTable, element);\n",
              "          const docLink = document.createElement('div');\n",
              "          docLink.innerHTML = docLinkHtml;\n",
              "          element.appendChild(docLink);\n",
              "        }\n",
              "      </script>\n",
              "    </div>\n",
              "  </div>\n",
              "  "
            ]
          },
          "metadata": {},
          "execution_count": 20
        }
      ]
    },
    {
      "cell_type": "code",
      "source": [
        "df.iloc[0]"
      ],
      "metadata": {
        "colab": {
          "base_uri": "https://localhost:8080/"
        },
        "id": "wvjMbBZ5MCT_",
        "outputId": "be61693f-4a21-4fea-a251-3967b2111d93"
      },
      "execution_count": 21,
      "outputs": [
        {
          "output_type": "execute_result",
          "data": {
            "text/plain": [
              "Code établissement                                                             0750150F\n",
              "Appellation officielle                E.P.PR SAINTE-GENEVIEVE 65 rue du Cardinal Lem...\n",
              "Dénomination principale                                           ECOLE PRIMAIRE PRIVEE\n",
              "Patronyme uai                                                          SAINTE-GENEVIEVE\n",
              "Secteur Public/Privé                                                              Privé\n",
              "Adresse                                                      65 rue du Cardinal Lemoine\n",
              "Lieu dit                                                                            NaN\n",
              "Boite postale                                                                       NaN\n",
              "Code postal                                                                       75005\n",
              "Localite d'acheminement                                                           PARIS\n",
              "Commune                                                       Paris  5e  Arrondissement\n",
              "Coordonnee X                                                                   652345.6\n",
              "Coordonnee Y                                                                  6860843.0\n",
              "EPSG                                                                          EPSG:2154\n",
              "Latitude                                                              48.84586899472324\n",
              "Longitude                                                            2.3506515701632913\n",
              "Qualité d'appariement                                                          Parfaite\n",
              "Localisation                                                              Numéro de rue\n",
              "Code nature                                                                         151\n",
              "Nature                                                      ECOLE DE NIVEAU ELEMENTAIRE\n",
              "Code état établissement                                                               1\n",
              "Etat établissement                                                               OUVERT\n",
              "Code département                                                                     75\n",
              "Code région                                                                          11\n",
              "Code académie                                                                         1\n",
              "Code commune                                                                      75105\n",
              "Département                                                                       Paris\n",
              "Région                                                                    Ile-de-France\n",
              "Académie                                                                          Paris\n",
              "Position                                          48.84586899472324, 2.3506515701632913\n",
              "secteur_prive_code_type_contrat                                                      30\n",
              "secteur_prive_libelle_type_contrat                 CONTRAT D'ASSOCIATION TOUTES CLASSES\n",
              "code_ministere                                                                        6\n",
              "libelle_ministere                                    MINISTERE DE L'EDUCATION NATIONALE\n",
              "date_ouverture                                                               10/01/1969\n",
              "Name: 1, dtype: object"
            ]
          },
          "metadata": {},
          "execution_count": 21
        }
      ]
    },
    {
      "cell_type": "code",
      "source": [
        "df[\"Dénomination principale\"].unique()"
      ],
      "metadata": {
        "colab": {
          "base_uri": "https://localhost:8080/"
        },
        "id": "EfKIML20PpjE",
        "outputId": "8a0ad379-d724-42e2-8550-3b4cf4ae83bf"
      },
      "execution_count": 22,
      "outputs": [
        {
          "output_type": "execute_result",
          "data": {
            "text/plain": [
              "array(['ECOLE PRIMAIRE PRIVEE', 'COLLEGE PRIVE',\n",
              "       'LYCEE TECHNOLOGIQUE PRIVE', 'COLLEGE', 'LYCEE POLYVALENT',\n",
              "       'ECOLE ELEMENTAIRE PUBLIQUE', 'LYCEE GENERAL ET TECHNOLOGIQUE',\n",
              "       'LPO LYCEE DES METIERS', 'LYCEE GENERAL', 'LYCEE TECHNOLOGIQUE',\n",
              "       'LYCEE PROFESSIONNEL', 'LP LYCEE DES METIERS',\n",
              "       'ECOLE PRIMAIRE PUBLIQUE',\n",
              "       'ECOLE ELEMENTAIRE APPLICATION PUBLIQUE',\n",
              "       'ECOLE MATERNELLE PUBLIQUE', 'ECOLE PRIMAIRE',\n",
              "       'ECOLE TECHNOLOGIQUE PRIVEE', 'ECOLE 2D DEGRE PROF.PRIVEE',\n",
              "       'ECOLE 2D DEGRE GENERAL PRIVEE', 'ECOLE GEN.ET TECHNOL.PRIVEE',\n",
              "       'SEGPA', 'ETAB.REGIONAL ENSEIGNT ADAPTE',\n",
              "       'ECOLE MATERNELLE PRIVEE', 'ECOLE GEN.ET TECHNOL. PRIVEE',\n",
              "       'ECOLE MATERNELLE D APPLICATION', 'LYCEE GEN.ET TECHNOL.PRIVE',\n",
              "       'LYCEE GENERAL PRIVE', 'LYC POLYVAL PRIVE DES METIERS',\n",
              "       'LYC GEN TECH PRIVE', 'SECTION ENSEIGNT PROFESSIONNEL',\n",
              "       'SECTION ENSEIGT PROFES.PRIVEE',\n",
              "       \"ECOLE PRIMAIRE D'APPLICATION PUBLIQUE\", 'ECOLE SECONDAIRE PRIVEE',\n",
              "       'ECOLE ELEMENTAIRE PRIVEE', 'COLLEGE PRIVE PR HANDICAPES',\n",
              "       'LYCEE ETRANGER PRIVE', 'LYCEE AGRICOLE PRIVE',\n",
              "       'SEP DU LYCEE POLYVALENT PRIVE', 'LYCEE EXPERIMENTAL', 'LYCEE',\n",
              "       'ECOLE PRIM.SPECIALISEE PRIVEE', 'LT LYCEE DES METIERS',\n",
              "       'LYCEE PRIVE POUR HANDICAPES', 'LYCEE GEN.ET TECHNOL. PRIVE',\n",
              "       'LYCEE POLYVALENT PRIVE', 'ETABLISSEMENT EXPERIMENTAL',\n",
              "       'LYCEE GEN. ET TECHNOL.PRIVE', \"ECOLE PRIVE D'ENS TECHNIQUE\",\n",
              "       'SECTION ENSEIGNEMENT PROFESIONNELLE',\n",
              "       'ECOLE TECHNOLOGIQUE ARTIST PRIVEE', 'COLLEGE PRIVE HANDICAPES',\n",
              "       'LYCEE POUR HANDICAPES PRIVE', 'SEP DU LYC POLYVALENT PRIVE'],\n",
              "      dtype=object)"
            ]
          },
          "metadata": {},
          "execution_count": 22
        }
      ]
    },
    {
      "cell_type": "code",
      "source": [
        "df[\"Nature\"].unique()"
      ],
      "metadata": {
        "colab": {
          "base_uri": "https://localhost:8080/"
        },
        "id": "nIVPY6ZRQUjQ",
        "outputId": "c7192d5f-21b8-4110-8d39-9f586a931014"
      },
      "execution_count": 23,
      "outputs": [
        {
          "output_type": "execute_result",
          "data": {
            "text/plain": [
              "array(['ECOLE DE NIVEAU ELEMENTAIRE', 'COLLEGE',\n",
              "       'LYCEE D ENSEIGNEMENT TECHNOLOGIQUE', 'LYCEE POLYVALENT',\n",
              "       'LYCEE ENSEIGNT GENERAL ET TECHNOLOGIQUE',\n",
              "       'LYCEE D ENSEIGNEMENT GENERAL', 'LYCEE PROFESSIONNEL',\n",
              "       'ECOLE ELEMENTAIRE D APPLICATION', 'ECOLE MATERNELLE',\n",
              "       'SECTION ENSEIGNT GEN. ET PROF. ADAPTE',\n",
              "       'ETAB REGIONAL/LYCEE ENSEIGNEMENT ADAPTE',\n",
              "       'ECOLE MATERNELLE D APPLICATION',\n",
              "       'SECTION D ENSEIGNEMENT PROFESSIONNEL', 'COLLEGE SPECIALISE',\n",
              "       'LYCEE EXPERIMENTAL', 'ECOLE DE NIVEAU ELEMENTAIRE SPECIALISEE',\n",
              "       'ECOLE SECONDAIRE SPECIALISEE (2 D CYCLE)'], dtype=object)"
            ]
          },
          "metadata": {},
          "execution_count": 23
        }
      ]
    },
    {
      "cell_type": "code",
      "source": [
        "df['Latitude'] = df['Latitude'].astype(float)\n",
        "df['Longitude'] = df['Longitude'].astype(float)"
      ],
      "metadata": {
        "id": "CHQ4yjTcTFwZ"
      },
      "execution_count": 24,
      "outputs": []
    },
    {
      "cell_type": "code",
      "source": [
        "df['Latitude'].describe()"
      ],
      "metadata": {
        "colab": {
          "base_uri": "https://localhost:8080/"
        },
        "id": "IJjY7oEYTumM",
        "outputId": "f3ee499e-8aa5-4b04-a4c1-8a91ac20963c"
      },
      "execution_count": 25,
      "outputs": [
        {
          "output_type": "execute_result",
          "data": {
            "text/plain": [
              "count    1329.000000\n",
              "mean       48.860312\n",
              "std         0.021193\n",
              "min        48.817846\n",
              "25%        48.843136\n",
              "50%        48.859052\n",
              "75%        48.878703\n",
              "max        48.900064\n",
              "Name: Latitude, dtype: float64"
            ]
          },
          "metadata": {},
          "execution_count": 25
        }
      ]
    },
    {
      "cell_type": "code",
      "source": [
        "df['Latitude'].round(3)"
      ],
      "metadata": {
        "colab": {
          "base_uri": "https://localhost:8080/"
        },
        "id": "MntcwolMT2vl",
        "outputId": "d7eff8b5-5036-408b-f173-1cd50f301bce"
      },
      "execution_count": 26,
      "outputs": [
        {
          "output_type": "execute_result",
          "data": {
            "text/plain": [
              "1       48.846\n",
              "2       48.847\n",
              "3       48.846\n",
              "4       48.894\n",
              "5       48.881\n",
              "         ...  \n",
              "1342    48.851\n",
              "1343    48.858\n",
              "1344       NaN\n",
              "1345       NaN\n",
              "1346       NaN\n",
              "Name: Latitude, Length: 1346, dtype: float64"
            ]
          },
          "metadata": {},
          "execution_count": 26
        }
      ]
    },
    {
      "cell_type": "code",
      "source": [
        "df.columns"
      ],
      "metadata": {
        "colab": {
          "base_uri": "https://localhost:8080/"
        },
        "id": "xe-cU0zjUMNp",
        "outputId": "ba24763f-9a62-4272-e75c-e228e1cb10b3"
      },
      "execution_count": 27,
      "outputs": [
        {
          "output_type": "execute_result",
          "data": {
            "text/plain": [
              "Index(['Code établissement', 'Appellation officielle',\n",
              "       'Dénomination principale', 'Patronyme uai', 'Secteur Public/Privé',\n",
              "       'Adresse', 'Lieu dit', 'Boite postale', 'Code postal',\n",
              "       'Localite d'acheminement', 'Commune', 'Coordonnee X', 'Coordonnee Y',\n",
              "       'EPSG', 'Latitude', 'Longitude', 'Qualité d'appariement',\n",
              "       'Localisation', 'Code nature', 'Nature', 'Code état établissement',\n",
              "       'Etat établissement', 'Code département', 'Code région',\n",
              "       'Code académie', 'Code commune', 'Département', 'Région', 'Académie',\n",
              "       'Position', 'secteur_prive_code_type_contrat',\n",
              "       'secteur_prive_libelle_type_contrat', 'code_ministere',\n",
              "       'libelle_ministere', 'date_ouverture'],\n",
              "      dtype='object')"
            ]
          },
          "metadata": {},
          "execution_count": 27
        }
      ]
    },
    {
      "cell_type": "code",
      "source": [
        "df.drop(['Académie'], axis = 1, inplace = True)"
      ],
      "metadata": {
        "id": "pjfWjbs8WRIy"
      },
      "execution_count": 28,
      "outputs": []
    },
    {
      "cell_type": "code",
      "source": [
        "df.drop(['Code département','Code région'], axis = 1, inplace = True)"
      ],
      "metadata": {
        "id": "b8IvgFvbWjbC"
      },
      "execution_count": 29,
      "outputs": []
    },
    {
      "cell_type": "code",
      "source": [
        "df.drop(['libelle_ministere','date_ouverture','secteur_prive_libelle_type_contrat','secteur_prive_code_type_contrat',\"Qualité d'appariement\",\"Localite d'acheminement\",'Boite postale','Lieu dit','Patronyme uai'], axis = 1, inplace = True)"
      ],
      "metadata": {
        "id": "5rMrzRHkW7c2"
      },
      "execution_count": 30,
      "outputs": []
    },
    {
      "cell_type": "code",
      "source": [
        "df.head()"
      ],
      "metadata": {
        "colab": {
          "base_uri": "https://localhost:8080/",
          "height": 586
        },
        "id": "T-y9UmQsXswx",
        "outputId": "2c7f74de-1d79-4dca-8b4a-c32f3f7d07df"
      },
      "execution_count": 31,
      "outputs": [
        {
          "output_type": "execute_result",
          "data": {
            "text/plain": [
              "  Code établissement                             Appellation officielle  \\\n",
              "1           0750150F  E.P.PR SAINTE-GENEVIEVE 65 rue du Cardinal Lem...   \n",
              "2           0750153J                 E.P.PR SAINT-VICTOR 35 rue Jussieu   \n",
              "3           0750167Z      E.P.PR STANISLAS 22 rue Notre Dame des Champs   \n",
              "4           0750182R                          Collège privé Saint Louis   \n",
              "5           0750215B            E.P.PR SAINT-LAURENT 184 rue la Fayette   \n",
              "\n",
              "  Dénomination principale Secteur Public/Privé                       Adresse  \\\n",
              "1   ECOLE PRIMAIRE PRIVEE                Privé    65 rue du Cardinal Lemoine   \n",
              "2   ECOLE PRIMAIRE PRIVEE                Privé                35 rue Jussieu   \n",
              "3   ECOLE PRIMAIRE PRIVEE                Privé  22 rue Notre Dame des Champs   \n",
              "4           COLLEGE PRIVE                Privé               47 rue Montcalm   \n",
              "5   ECOLE PRIMAIRE PRIVEE                Privé            184 rue la Fayette   \n",
              "\n",
              "  Code postal                    Commune Coordonnee X Coordonnee Y       EPSG  \\\n",
              "1       75005  Paris  5e  Arrondissement     652345.6    6860843.0  EPSG:2154   \n",
              "2       75005  Paris  5e  Arrondissement     652560.4    6860967.7  EPSG:2154   \n",
              "3       75006  Paris  6e  Arrondissement     650667.6    6860826.8  EPSG:2154   \n",
              "4       75018  Paris 18e  Arrondissement     651588.8    6866222.5  EPSG:2154   \n",
              "5       75010  Paris 10e  Arrondissement     653278.5    6864714.7  EPSG:2154   \n",
              "\n",
              "   ...  Code nature                       Nature Code état établissement  \\\n",
              "1  ...          151  ECOLE DE NIVEAU ELEMENTAIRE                       1   \n",
              "2  ...          151  ECOLE DE NIVEAU ELEMENTAIRE                       1   \n",
              "3  ...          151  ECOLE DE NIVEAU ELEMENTAIRE                       1   \n",
              "4  ...          340                      COLLEGE                       1   \n",
              "5  ...          151  ECOLE DE NIVEAU ELEMENTAIRE                       1   \n",
              "\n",
              "  Etat établissement Code académie Code commune Département         Région  \\\n",
              "1             OUVERT             1        75105       Paris  Ile-de-France   \n",
              "2             OUVERT             1        75105       Paris  Ile-de-France   \n",
              "3             OUVERT             1        75106       Paris  Ile-de-France   \n",
              "4             OUVERT             1        75118       Paris  Ile-de-France   \n",
              "5             OUVERT             1        75110       Paris  Ile-de-France   \n",
              "\n",
              "                                Position code_ministere  \n",
              "1  48.84586899472324, 2.3506515701632913              6  \n",
              "2  48.84700627040922, 2.3535644367706623              6  \n",
              "3  48.845597026381995, 2.327789770055034              6  \n",
              "4   48.89418927217453, 2.339726809673218              6  \n",
              "5     48.88075497521155, 2.3629372698656              6  \n",
              "\n",
              "[5 rows x 23 columns]"
            ],
            "text/html": [
              "\n",
              "  <div id=\"df-2755c0d3-5c02-4174-aef3-55a98c6eefe1\">\n",
              "    <div class=\"colab-df-container\">\n",
              "      <div>\n",
              "<style scoped>\n",
              "    .dataframe tbody tr th:only-of-type {\n",
              "        vertical-align: middle;\n",
              "    }\n",
              "\n",
              "    .dataframe tbody tr th {\n",
              "        vertical-align: top;\n",
              "    }\n",
              "\n",
              "    .dataframe thead th {\n",
              "        text-align: right;\n",
              "    }\n",
              "</style>\n",
              "<table border=\"1\" class=\"dataframe\">\n",
              "  <thead>\n",
              "    <tr style=\"text-align: right;\">\n",
              "      <th></th>\n",
              "      <th>Code établissement</th>\n",
              "      <th>Appellation officielle</th>\n",
              "      <th>Dénomination principale</th>\n",
              "      <th>Secteur Public/Privé</th>\n",
              "      <th>Adresse</th>\n",
              "      <th>Code postal</th>\n",
              "      <th>Commune</th>\n",
              "      <th>Coordonnee X</th>\n",
              "      <th>Coordonnee Y</th>\n",
              "      <th>EPSG</th>\n",
              "      <th>...</th>\n",
              "      <th>Code nature</th>\n",
              "      <th>Nature</th>\n",
              "      <th>Code état établissement</th>\n",
              "      <th>Etat établissement</th>\n",
              "      <th>Code académie</th>\n",
              "      <th>Code commune</th>\n",
              "      <th>Département</th>\n",
              "      <th>Région</th>\n",
              "      <th>Position</th>\n",
              "      <th>code_ministere</th>\n",
              "    </tr>\n",
              "  </thead>\n",
              "  <tbody>\n",
              "    <tr>\n",
              "      <th>1</th>\n",
              "      <td>0750150F</td>\n",
              "      <td>E.P.PR SAINTE-GENEVIEVE 65 rue du Cardinal Lem...</td>\n",
              "      <td>ECOLE PRIMAIRE PRIVEE</td>\n",
              "      <td>Privé</td>\n",
              "      <td>65 rue du Cardinal Lemoine</td>\n",
              "      <td>75005</td>\n",
              "      <td>Paris  5e  Arrondissement</td>\n",
              "      <td>652345.6</td>\n",
              "      <td>6860843.0</td>\n",
              "      <td>EPSG:2154</td>\n",
              "      <td>...</td>\n",
              "      <td>151</td>\n",
              "      <td>ECOLE DE NIVEAU ELEMENTAIRE</td>\n",
              "      <td>1</td>\n",
              "      <td>OUVERT</td>\n",
              "      <td>1</td>\n",
              "      <td>75105</td>\n",
              "      <td>Paris</td>\n",
              "      <td>Ile-de-France</td>\n",
              "      <td>48.84586899472324, 2.3506515701632913</td>\n",
              "      <td>6</td>\n",
              "    </tr>\n",
              "    <tr>\n",
              "      <th>2</th>\n",
              "      <td>0750153J</td>\n",
              "      <td>E.P.PR SAINT-VICTOR 35 rue Jussieu</td>\n",
              "      <td>ECOLE PRIMAIRE PRIVEE</td>\n",
              "      <td>Privé</td>\n",
              "      <td>35 rue Jussieu</td>\n",
              "      <td>75005</td>\n",
              "      <td>Paris  5e  Arrondissement</td>\n",
              "      <td>652560.4</td>\n",
              "      <td>6860967.7</td>\n",
              "      <td>EPSG:2154</td>\n",
              "      <td>...</td>\n",
              "      <td>151</td>\n",
              "      <td>ECOLE DE NIVEAU ELEMENTAIRE</td>\n",
              "      <td>1</td>\n",
              "      <td>OUVERT</td>\n",
              "      <td>1</td>\n",
              "      <td>75105</td>\n",
              "      <td>Paris</td>\n",
              "      <td>Ile-de-France</td>\n",
              "      <td>48.84700627040922, 2.3535644367706623</td>\n",
              "      <td>6</td>\n",
              "    </tr>\n",
              "    <tr>\n",
              "      <th>3</th>\n",
              "      <td>0750167Z</td>\n",
              "      <td>E.P.PR STANISLAS 22 rue Notre Dame des Champs</td>\n",
              "      <td>ECOLE PRIMAIRE PRIVEE</td>\n",
              "      <td>Privé</td>\n",
              "      <td>22 rue Notre Dame des Champs</td>\n",
              "      <td>75006</td>\n",
              "      <td>Paris  6e  Arrondissement</td>\n",
              "      <td>650667.6</td>\n",
              "      <td>6860826.8</td>\n",
              "      <td>EPSG:2154</td>\n",
              "      <td>...</td>\n",
              "      <td>151</td>\n",
              "      <td>ECOLE DE NIVEAU ELEMENTAIRE</td>\n",
              "      <td>1</td>\n",
              "      <td>OUVERT</td>\n",
              "      <td>1</td>\n",
              "      <td>75106</td>\n",
              "      <td>Paris</td>\n",
              "      <td>Ile-de-France</td>\n",
              "      <td>48.845597026381995, 2.327789770055034</td>\n",
              "      <td>6</td>\n",
              "    </tr>\n",
              "    <tr>\n",
              "      <th>4</th>\n",
              "      <td>0750182R</td>\n",
              "      <td>Collège privé Saint Louis</td>\n",
              "      <td>COLLEGE PRIVE</td>\n",
              "      <td>Privé</td>\n",
              "      <td>47 rue Montcalm</td>\n",
              "      <td>75018</td>\n",
              "      <td>Paris 18e  Arrondissement</td>\n",
              "      <td>651588.8</td>\n",
              "      <td>6866222.5</td>\n",
              "      <td>EPSG:2154</td>\n",
              "      <td>...</td>\n",
              "      <td>340</td>\n",
              "      <td>COLLEGE</td>\n",
              "      <td>1</td>\n",
              "      <td>OUVERT</td>\n",
              "      <td>1</td>\n",
              "      <td>75118</td>\n",
              "      <td>Paris</td>\n",
              "      <td>Ile-de-France</td>\n",
              "      <td>48.89418927217453, 2.339726809673218</td>\n",
              "      <td>6</td>\n",
              "    </tr>\n",
              "    <tr>\n",
              "      <th>5</th>\n",
              "      <td>0750215B</td>\n",
              "      <td>E.P.PR SAINT-LAURENT 184 rue la Fayette</td>\n",
              "      <td>ECOLE PRIMAIRE PRIVEE</td>\n",
              "      <td>Privé</td>\n",
              "      <td>184 rue la Fayette</td>\n",
              "      <td>75010</td>\n",
              "      <td>Paris 10e  Arrondissement</td>\n",
              "      <td>653278.5</td>\n",
              "      <td>6864714.7</td>\n",
              "      <td>EPSG:2154</td>\n",
              "      <td>...</td>\n",
              "      <td>151</td>\n",
              "      <td>ECOLE DE NIVEAU ELEMENTAIRE</td>\n",
              "      <td>1</td>\n",
              "      <td>OUVERT</td>\n",
              "      <td>1</td>\n",
              "      <td>75110</td>\n",
              "      <td>Paris</td>\n",
              "      <td>Ile-de-France</td>\n",
              "      <td>48.88075497521155, 2.3629372698656</td>\n",
              "      <td>6</td>\n",
              "    </tr>\n",
              "  </tbody>\n",
              "</table>\n",
              "<p>5 rows × 23 columns</p>\n",
              "</div>\n",
              "      <button class=\"colab-df-convert\" onclick=\"convertToInteractive('df-2755c0d3-5c02-4174-aef3-55a98c6eefe1')\"\n",
              "              title=\"Convert this dataframe to an interactive table.\"\n",
              "              style=\"display:none;\">\n",
              "        \n",
              "  <svg xmlns=\"http://www.w3.org/2000/svg\" height=\"24px\"viewBox=\"0 0 24 24\"\n",
              "       width=\"24px\">\n",
              "    <path d=\"M0 0h24v24H0V0z\" fill=\"none\"/>\n",
              "    <path d=\"M18.56 5.44l.94 2.06.94-2.06 2.06-.94-2.06-.94-.94-2.06-.94 2.06-2.06.94zm-11 1L8.5 8.5l.94-2.06 2.06-.94-2.06-.94L8.5 2.5l-.94 2.06-2.06.94zm10 10l.94 2.06.94-2.06 2.06-.94-2.06-.94-.94-2.06-.94 2.06-2.06.94z\"/><path d=\"M17.41 7.96l-1.37-1.37c-.4-.4-.92-.59-1.43-.59-.52 0-1.04.2-1.43.59L10.3 9.45l-7.72 7.72c-.78.78-.78 2.05 0 2.83L4 21.41c.39.39.9.59 1.41.59.51 0 1.02-.2 1.41-.59l7.78-7.78 2.81-2.81c.8-.78.8-2.07 0-2.86zM5.41 20L4 18.59l7.72-7.72 1.47 1.35L5.41 20z\"/>\n",
              "  </svg>\n",
              "      </button>\n",
              "      \n",
              "  <style>\n",
              "    .colab-df-container {\n",
              "      display:flex;\n",
              "      flex-wrap:wrap;\n",
              "      gap: 12px;\n",
              "    }\n",
              "\n",
              "    .colab-df-convert {\n",
              "      background-color: #E8F0FE;\n",
              "      border: none;\n",
              "      border-radius: 50%;\n",
              "      cursor: pointer;\n",
              "      display: none;\n",
              "      fill: #1967D2;\n",
              "      height: 32px;\n",
              "      padding: 0 0 0 0;\n",
              "      width: 32px;\n",
              "    }\n",
              "\n",
              "    .colab-df-convert:hover {\n",
              "      background-color: #E2EBFA;\n",
              "      box-shadow: 0px 1px 2px rgba(60, 64, 67, 0.3), 0px 1px 3px 1px rgba(60, 64, 67, 0.15);\n",
              "      fill: #174EA6;\n",
              "    }\n",
              "\n",
              "    [theme=dark] .colab-df-convert {\n",
              "      background-color: #3B4455;\n",
              "      fill: #D2E3FC;\n",
              "    }\n",
              "\n",
              "    [theme=dark] .colab-df-convert:hover {\n",
              "      background-color: #434B5C;\n",
              "      box-shadow: 0px 1px 3px 1px rgba(0, 0, 0, 0.15);\n",
              "      filter: drop-shadow(0px 1px 2px rgba(0, 0, 0, 0.3));\n",
              "      fill: #FFFFFF;\n",
              "    }\n",
              "  </style>\n",
              "\n",
              "      <script>\n",
              "        const buttonEl =\n",
              "          document.querySelector('#df-2755c0d3-5c02-4174-aef3-55a98c6eefe1 button.colab-df-convert');\n",
              "        buttonEl.style.display =\n",
              "          google.colab.kernel.accessAllowed ? 'block' : 'none';\n",
              "\n",
              "        async function convertToInteractive(key) {\n",
              "          const element = document.querySelector('#df-2755c0d3-5c02-4174-aef3-55a98c6eefe1');\n",
              "          const dataTable =\n",
              "            await google.colab.kernel.invokeFunction('convertToInteractive',\n",
              "                                                     [key], {});\n",
              "          if (!dataTable) return;\n",
              "\n",
              "          const docLinkHtml = 'Like what you see? Visit the ' +\n",
              "            '<a target=\"_blank\" href=https://colab.research.google.com/notebooks/data_table.ipynb>data table notebook</a>'\n",
              "            + ' to learn more about interactive tables.';\n",
              "          element.innerHTML = '';\n",
              "          dataTable['output_type'] = 'display_data';\n",
              "          await google.colab.output.renderOutput(dataTable, element);\n",
              "          const docLink = document.createElement('div');\n",
              "          docLink.innerHTML = docLinkHtml;\n",
              "          element.appendChild(docLink);\n",
              "        }\n",
              "      </script>\n",
              "    </div>\n",
              "  </div>\n",
              "  "
            ]
          },
          "metadata": {},
          "execution_count": 31
        }
      ]
    },
    {
      "cell_type": "code",
      "source": [
        "df['Code état établissement'].unique()"
      ],
      "metadata": {
        "colab": {
          "base_uri": "https://localhost:8080/"
        },
        "id": "-qnc8PSEXyjE",
        "outputId": "621c36e8-ae55-4617-fbdb-1f237f8cc3f5"
      },
      "execution_count": 32,
      "outputs": [
        {
          "output_type": "execute_result",
          "data": {
            "text/plain": [
              "array(['1', '2', '3'], dtype=object)"
            ]
          },
          "metadata": {},
          "execution_count": 32
        }
      ]
    },
    {
      "cell_type": "code",
      "source": [
        "df.drop(['Code académie'],axis = 1, inplace = True)"
      ],
      "metadata": {
        "id": "mDAaoaFxX3Qo"
      },
      "execution_count": 33,
      "outputs": []
    },
    {
      "cell_type": "code",
      "source": [
        "df.columns"
      ],
      "metadata": {
        "colab": {
          "base_uri": "https://localhost:8080/"
        },
        "id": "qimnaspJYfaP",
        "outputId": "1da6d8ba-4fb3-478c-f3a6-03ac8ce87f88"
      },
      "execution_count": 34,
      "outputs": [
        {
          "output_type": "execute_result",
          "data": {
            "text/plain": [
              "Index(['Code établissement', 'Appellation officielle',\n",
              "       'Dénomination principale', 'Secteur Public/Privé', 'Adresse',\n",
              "       'Code postal', 'Commune', 'Coordonnee X', 'Coordonnee Y', 'EPSG',\n",
              "       'Latitude', 'Longitude', 'Localisation', 'Code nature', 'Nature',\n",
              "       'Code état établissement', 'Etat établissement', 'Code commune',\n",
              "       'Département', 'Région', 'Position', 'code_ministere'],\n",
              "      dtype='object')"
            ]
          },
          "metadata": {},
          "execution_count": 34
        }
      ]
    },
    {
      "cell_type": "code",
      "source": [
        "df.drop(['EPSG','Région','Position','code_ministere','Adresse','Commune','Localisation','Département'],axis = 1, inplace = True)"
      ],
      "metadata": {
        "id": "iCmoXle3YfOa"
      },
      "execution_count": 35,
      "outputs": []
    },
    {
      "cell_type": "code",
      "source": [
        "df.columns"
      ],
      "metadata": {
        "colab": {
          "base_uri": "https://localhost:8080/"
        },
        "id": "9opalFBEaRmL",
        "outputId": "22707d3f-f7c7-4f16-9fad-70137a0dd7e1"
      },
      "execution_count": 36,
      "outputs": [
        {
          "output_type": "execute_result",
          "data": {
            "text/plain": [
              "Index(['Code établissement', 'Appellation officielle',\n",
              "       'Dénomination principale', 'Secteur Public/Privé', 'Code postal',\n",
              "       'Coordonnee X', 'Coordonnee Y', 'Latitude', 'Longitude', 'Code nature',\n",
              "       'Nature', 'Code état établissement', 'Etat établissement',\n",
              "       'Code commune'],\n",
              "      dtype='object')"
            ]
          },
          "metadata": {},
          "execution_count": 36
        }
      ]
    },
    {
      "cell_type": "code",
      "source": [
        "df['Code nature'].unique()"
      ],
      "metadata": {
        "colab": {
          "base_uri": "https://localhost:8080/"
        },
        "id": "jhp-Hob8aU4m",
        "outputId": "687e6dd1-6a9f-4443-8640-af4097951e7d"
      },
      "execution_count": 37,
      "outputs": [
        {
          "output_type": "execute_result",
          "data": {
            "text/plain": [
              "array(['151', '340', '301', '306', '300', '302', '320', '153', '101',\n",
              "       '390', '370', '103', '334', '352', '315', '162', '312'],\n",
              "      dtype=object)"
            ]
          },
          "metadata": {},
          "execution_count": 37
        }
      ]
    },
    {
      "cell_type": "code",
      "source": [
        "df['Nature'].unique()"
      ],
      "metadata": {
        "colab": {
          "base_uri": "https://localhost:8080/"
        },
        "id": "_ke-C-m_aczR",
        "outputId": "b9b0bd34-2dc6-4ed0-a5d1-524de517136d"
      },
      "execution_count": 38,
      "outputs": [
        {
          "output_type": "execute_result",
          "data": {
            "text/plain": [
              "array(['ECOLE DE NIVEAU ELEMENTAIRE', 'COLLEGE',\n",
              "       'LYCEE D ENSEIGNEMENT TECHNOLOGIQUE', 'LYCEE POLYVALENT',\n",
              "       'LYCEE ENSEIGNT GENERAL ET TECHNOLOGIQUE',\n",
              "       'LYCEE D ENSEIGNEMENT GENERAL', 'LYCEE PROFESSIONNEL',\n",
              "       'ECOLE ELEMENTAIRE D APPLICATION', 'ECOLE MATERNELLE',\n",
              "       'SECTION ENSEIGNT GEN. ET PROF. ADAPTE',\n",
              "       'ETAB REGIONAL/LYCEE ENSEIGNEMENT ADAPTE',\n",
              "       'ECOLE MATERNELLE D APPLICATION',\n",
              "       'SECTION D ENSEIGNEMENT PROFESSIONNEL', 'COLLEGE SPECIALISE',\n",
              "       'LYCEE EXPERIMENTAL', 'ECOLE DE NIVEAU ELEMENTAIRE SPECIALISEE',\n",
              "       'ECOLE SECONDAIRE SPECIALISEE (2 D CYCLE)'], dtype=object)"
            ]
          },
          "metadata": {},
          "execution_count": 38
        }
      ]
    },
    {
      "cell_type": "markdown",
      "source": [
        "On remarque ici que lorsque le code nature commence par un 1, il s'agit d'une école primaire / maternelle, alors que quand code nature commence par 3, il s'agit d'un lycée ou d'un collège. Comme on ne veut que les lycées ou colllèges, on supprime les lignes dont le code nature ne commence pas par 3"
      ],
      "metadata": {
        "id": "9NXmBenEau8q"
      }
    },
    {
      "cell_type": "code",
      "source": [
        "df = df.loc[df['Code nature'] != '151']\n",
        "df = df.loc[df['Code nature'] != '153']\n",
        "df = df.loc[df['Code nature'] != '101']\n",
        "df = df.loc[df['Code nature'] != '162']\n",
        "df = df.loc[df['Code nature'] != '103'] \n"
      ],
      "metadata": {
        "id": "XKA6TRn8dCLQ"
      },
      "execution_count": 39,
      "outputs": []
    },
    {
      "cell_type": "code",
      "source": [
        "df['Code nature'].unique()"
      ],
      "metadata": {
        "colab": {
          "base_uri": "https://localhost:8080/"
        },
        "id": "VN6LZ1GafTb0",
        "outputId": "eacf3d12-e750-44c4-bd31-bfbb63222d71"
      },
      "execution_count": 40,
      "outputs": [
        {
          "output_type": "execute_result",
          "data": {
            "text/plain": [
              "array(['340', '301', '306', '300', '302', '320', '390', '370', '334',\n",
              "       '352', '315', '312'], dtype=object)"
            ]
          },
          "metadata": {},
          "execution_count": 40
        }
      ]
    },
    {
      "cell_type": "code",
      "source": [
        "df.head()"
      ],
      "metadata": {
        "colab": {
          "base_uri": "https://localhost:8080/",
          "height": 472
        },
        "id": "RE9Ycku-feMf",
        "outputId": "e31c0447-ea6f-467a-8069-8dd25357567a"
      },
      "execution_count": 41,
      "outputs": [
        {
          "output_type": "execute_result",
          "data": {
            "text/plain": [
              "   Code établissement                             Appellation officielle  \\\n",
              "4            0750182R                          Collège privé Saint Louis   \n",
              "12           0750330B  Lycée technologique privé Ecole Technique Supé...   \n",
              "17           0750407K                                    Collège Rognoni   \n",
              "18           0750429J                            Collège Roland Dorgelès   \n",
              "19           0750484U                    Collège Wolfgang Amadeus Mozart   \n",
              "\n",
              "      Dénomination principale Secteur Public/Privé Code postal Coordonnee X  \\\n",
              "4               COLLEGE PRIVE                Privé       75018     651588.8   \n",
              "12  LYCEE TECHNOLOGIQUE PRIVE                Privé       75013     653978.3   \n",
              "17                    COLLEGE               Public       75005     652540.8   \n",
              "18                    COLLEGE               Public       75018     652179.8   \n",
              "19                    COLLEGE               Public       75019     654486.8   \n",
              "\n",
              "   Coordonnee Y   Latitude  Longitude Code nature  \\\n",
              "4     6866222.5  48.894189   2.339727         340   \n",
              "12    6858860.5  48.828159   2.373113         301   \n",
              "17    6861108.7  48.848273   2.353282         340   \n",
              "18    6865556.2  48.888242   2.347862         340   \n",
              "19    6865686.0  48.889576   2.379308         340   \n",
              "\n",
              "                                Nature Code état établissement  \\\n",
              "4                              COLLEGE                       1   \n",
              "12  LYCEE D ENSEIGNEMENT TECHNOLOGIQUE                       1   \n",
              "17                             COLLEGE                       1   \n",
              "18                             COLLEGE                       1   \n",
              "19                             COLLEGE                       1   \n",
              "\n",
              "   Etat établissement Code commune  \n",
              "4              OUVERT        75118  \n",
              "12             OUVERT        75113  \n",
              "17             OUVERT        75105  \n",
              "18             OUVERT        75118  \n",
              "19             OUVERT        75119  "
            ],
            "text/html": [
              "\n",
              "  <div id=\"df-ccac25fc-76cd-4b40-8e0f-364a0da0a627\">\n",
              "    <div class=\"colab-df-container\">\n",
              "      <div>\n",
              "<style scoped>\n",
              "    .dataframe tbody tr th:only-of-type {\n",
              "        vertical-align: middle;\n",
              "    }\n",
              "\n",
              "    .dataframe tbody tr th {\n",
              "        vertical-align: top;\n",
              "    }\n",
              "\n",
              "    .dataframe thead th {\n",
              "        text-align: right;\n",
              "    }\n",
              "</style>\n",
              "<table border=\"1\" class=\"dataframe\">\n",
              "  <thead>\n",
              "    <tr style=\"text-align: right;\">\n",
              "      <th></th>\n",
              "      <th>Code établissement</th>\n",
              "      <th>Appellation officielle</th>\n",
              "      <th>Dénomination principale</th>\n",
              "      <th>Secteur Public/Privé</th>\n",
              "      <th>Code postal</th>\n",
              "      <th>Coordonnee X</th>\n",
              "      <th>Coordonnee Y</th>\n",
              "      <th>Latitude</th>\n",
              "      <th>Longitude</th>\n",
              "      <th>Code nature</th>\n",
              "      <th>Nature</th>\n",
              "      <th>Code état établissement</th>\n",
              "      <th>Etat établissement</th>\n",
              "      <th>Code commune</th>\n",
              "    </tr>\n",
              "  </thead>\n",
              "  <tbody>\n",
              "    <tr>\n",
              "      <th>4</th>\n",
              "      <td>0750182R</td>\n",
              "      <td>Collège privé Saint Louis</td>\n",
              "      <td>COLLEGE PRIVE</td>\n",
              "      <td>Privé</td>\n",
              "      <td>75018</td>\n",
              "      <td>651588.8</td>\n",
              "      <td>6866222.5</td>\n",
              "      <td>48.894189</td>\n",
              "      <td>2.339727</td>\n",
              "      <td>340</td>\n",
              "      <td>COLLEGE</td>\n",
              "      <td>1</td>\n",
              "      <td>OUVERT</td>\n",
              "      <td>75118</td>\n",
              "    </tr>\n",
              "    <tr>\n",
              "      <th>12</th>\n",
              "      <td>0750330B</td>\n",
              "      <td>Lycée technologique privé Ecole Technique Supé...</td>\n",
              "      <td>LYCEE TECHNOLOGIQUE PRIVE</td>\n",
              "      <td>Privé</td>\n",
              "      <td>75013</td>\n",
              "      <td>653978.3</td>\n",
              "      <td>6858860.5</td>\n",
              "      <td>48.828159</td>\n",
              "      <td>2.373113</td>\n",
              "      <td>301</td>\n",
              "      <td>LYCEE D ENSEIGNEMENT TECHNOLOGIQUE</td>\n",
              "      <td>1</td>\n",
              "      <td>OUVERT</td>\n",
              "      <td>75113</td>\n",
              "    </tr>\n",
              "    <tr>\n",
              "      <th>17</th>\n",
              "      <td>0750407K</td>\n",
              "      <td>Collège Rognoni</td>\n",
              "      <td>COLLEGE</td>\n",
              "      <td>Public</td>\n",
              "      <td>75005</td>\n",
              "      <td>652540.8</td>\n",
              "      <td>6861108.7</td>\n",
              "      <td>48.848273</td>\n",
              "      <td>2.353282</td>\n",
              "      <td>340</td>\n",
              "      <td>COLLEGE</td>\n",
              "      <td>1</td>\n",
              "      <td>OUVERT</td>\n",
              "      <td>75105</td>\n",
              "    </tr>\n",
              "    <tr>\n",
              "      <th>18</th>\n",
              "      <td>0750429J</td>\n",
              "      <td>Collège Roland Dorgelès</td>\n",
              "      <td>COLLEGE</td>\n",
              "      <td>Public</td>\n",
              "      <td>75018</td>\n",
              "      <td>652179.8</td>\n",
              "      <td>6865556.2</td>\n",
              "      <td>48.888242</td>\n",
              "      <td>2.347862</td>\n",
              "      <td>340</td>\n",
              "      <td>COLLEGE</td>\n",
              "      <td>1</td>\n",
              "      <td>OUVERT</td>\n",
              "      <td>75118</td>\n",
              "    </tr>\n",
              "    <tr>\n",
              "      <th>19</th>\n",
              "      <td>0750484U</td>\n",
              "      <td>Collège Wolfgang Amadeus Mozart</td>\n",
              "      <td>COLLEGE</td>\n",
              "      <td>Public</td>\n",
              "      <td>75019</td>\n",
              "      <td>654486.8</td>\n",
              "      <td>6865686.0</td>\n",
              "      <td>48.889576</td>\n",
              "      <td>2.379308</td>\n",
              "      <td>340</td>\n",
              "      <td>COLLEGE</td>\n",
              "      <td>1</td>\n",
              "      <td>OUVERT</td>\n",
              "      <td>75119</td>\n",
              "    </tr>\n",
              "  </tbody>\n",
              "</table>\n",
              "</div>\n",
              "      <button class=\"colab-df-convert\" onclick=\"convertToInteractive('df-ccac25fc-76cd-4b40-8e0f-364a0da0a627')\"\n",
              "              title=\"Convert this dataframe to an interactive table.\"\n",
              "              style=\"display:none;\">\n",
              "        \n",
              "  <svg xmlns=\"http://www.w3.org/2000/svg\" height=\"24px\"viewBox=\"0 0 24 24\"\n",
              "       width=\"24px\">\n",
              "    <path d=\"M0 0h24v24H0V0z\" fill=\"none\"/>\n",
              "    <path d=\"M18.56 5.44l.94 2.06.94-2.06 2.06-.94-2.06-.94-.94-2.06-.94 2.06-2.06.94zm-11 1L8.5 8.5l.94-2.06 2.06-.94-2.06-.94L8.5 2.5l-.94 2.06-2.06.94zm10 10l.94 2.06.94-2.06 2.06-.94-2.06-.94-.94-2.06-.94 2.06-2.06.94z\"/><path d=\"M17.41 7.96l-1.37-1.37c-.4-.4-.92-.59-1.43-.59-.52 0-1.04.2-1.43.59L10.3 9.45l-7.72 7.72c-.78.78-.78 2.05 0 2.83L4 21.41c.39.39.9.59 1.41.59.51 0 1.02-.2 1.41-.59l7.78-7.78 2.81-2.81c.8-.78.8-2.07 0-2.86zM5.41 20L4 18.59l7.72-7.72 1.47 1.35L5.41 20z\"/>\n",
              "  </svg>\n",
              "      </button>\n",
              "      \n",
              "  <style>\n",
              "    .colab-df-container {\n",
              "      display:flex;\n",
              "      flex-wrap:wrap;\n",
              "      gap: 12px;\n",
              "    }\n",
              "\n",
              "    .colab-df-convert {\n",
              "      background-color: #E8F0FE;\n",
              "      border: none;\n",
              "      border-radius: 50%;\n",
              "      cursor: pointer;\n",
              "      display: none;\n",
              "      fill: #1967D2;\n",
              "      height: 32px;\n",
              "      padding: 0 0 0 0;\n",
              "      width: 32px;\n",
              "    }\n",
              "\n",
              "    .colab-df-convert:hover {\n",
              "      background-color: #E2EBFA;\n",
              "      box-shadow: 0px 1px 2px rgba(60, 64, 67, 0.3), 0px 1px 3px 1px rgba(60, 64, 67, 0.15);\n",
              "      fill: #174EA6;\n",
              "    }\n",
              "\n",
              "    [theme=dark] .colab-df-convert {\n",
              "      background-color: #3B4455;\n",
              "      fill: #D2E3FC;\n",
              "    }\n",
              "\n",
              "    [theme=dark] .colab-df-convert:hover {\n",
              "      background-color: #434B5C;\n",
              "      box-shadow: 0px 1px 3px 1px rgba(0, 0, 0, 0.15);\n",
              "      filter: drop-shadow(0px 1px 2px rgba(0, 0, 0, 0.3));\n",
              "      fill: #FFFFFF;\n",
              "    }\n",
              "  </style>\n",
              "\n",
              "      <script>\n",
              "        const buttonEl =\n",
              "          document.querySelector('#df-ccac25fc-76cd-4b40-8e0f-364a0da0a627 button.colab-df-convert');\n",
              "        buttonEl.style.display =\n",
              "          google.colab.kernel.accessAllowed ? 'block' : 'none';\n",
              "\n",
              "        async function convertToInteractive(key) {\n",
              "          const element = document.querySelector('#df-ccac25fc-76cd-4b40-8e0f-364a0da0a627');\n",
              "          const dataTable =\n",
              "            await google.colab.kernel.invokeFunction('convertToInteractive',\n",
              "                                                     [key], {});\n",
              "          if (!dataTable) return;\n",
              "\n",
              "          const docLinkHtml = 'Like what you see? Visit the ' +\n",
              "            '<a target=\"_blank\" href=https://colab.research.google.com/notebooks/data_table.ipynb>data table notebook</a>'\n",
              "            + ' to learn more about interactive tables.';\n",
              "          element.innerHTML = '';\n",
              "          dataTable['output_type'] = 'display_data';\n",
              "          await google.colab.output.renderOutput(dataTable, element);\n",
              "          const docLink = document.createElement('div');\n",
              "          docLink.innerHTML = docLinkHtml;\n",
              "          element.appendChild(docLink);\n",
              "        }\n",
              "      </script>\n",
              "    </div>\n",
              "  </div>\n",
              "  "
            ]
          },
          "metadata": {},
          "execution_count": 41
        }
      ]
    },
    {
      "cell_type": "code",
      "source": [
        "df['Code nature'].unique()"
      ],
      "metadata": {
        "colab": {
          "base_uri": "https://localhost:8080/"
        },
        "id": "ZcUBh4_Igs5i",
        "outputId": "a3c2ba90-7d78-4b9f-d69b-38228d848065"
      },
      "execution_count": 42,
      "outputs": [
        {
          "output_type": "execute_result",
          "data": {
            "text/plain": [
              "array(['340', '301', '306', '300', '302', '320', '390', '370', '334',\n",
              "       '352', '315', '312'], dtype=object)"
            ]
          },
          "metadata": {},
          "execution_count": 42
        }
      ]
    },
    {
      "cell_type": "code",
      "source": [
        "df['Nature'].unique()"
      ],
      "metadata": {
        "colab": {
          "base_uri": "https://localhost:8080/"
        },
        "id": "wdtNvZ8ugyc9",
        "outputId": "8e484e74-324b-44bf-f07a-b991d4905b04"
      },
      "execution_count": 43,
      "outputs": [
        {
          "output_type": "execute_result",
          "data": {
            "text/plain": [
              "array(['COLLEGE', 'LYCEE D ENSEIGNEMENT TECHNOLOGIQUE',\n",
              "       'LYCEE POLYVALENT', 'LYCEE ENSEIGNT GENERAL ET TECHNOLOGIQUE',\n",
              "       'LYCEE D ENSEIGNEMENT GENERAL', 'LYCEE PROFESSIONNEL',\n",
              "       'SECTION ENSEIGNT GEN. ET PROF. ADAPTE',\n",
              "       'ETAB REGIONAL/LYCEE ENSEIGNEMENT ADAPTE',\n",
              "       'SECTION D ENSEIGNEMENT PROFESSIONNEL', 'COLLEGE SPECIALISE',\n",
              "       'LYCEE EXPERIMENTAL', 'ECOLE SECONDAIRE SPECIALISEE (2 D CYCLE)'],\n",
              "      dtype=object)"
            ]
          },
          "metadata": {},
          "execution_count": 43
        }
      ]
    },
    {
      "cell_type": "code",
      "source": [
        "df = df.loc[df['Code nature'] != '340']\n",
        "df = df.loc[df['Code nature'] != '352']\n",
        "df = df.loc[df['Code nature'] != '312']"
      ],
      "metadata": {
        "id": "xJk5A8xZg7qE"
      },
      "execution_count": 44,
      "outputs": []
    },
    {
      "cell_type": "code",
      "source": [
        "df['Nature'].unique()"
      ],
      "metadata": {
        "colab": {
          "base_uri": "https://localhost:8080/"
        },
        "id": "_rviBSPdh6Rp",
        "outputId": "573b40a3-bcf4-4c37-84e2-c44b18bb990a"
      },
      "execution_count": 45,
      "outputs": [
        {
          "output_type": "execute_result",
          "data": {
            "text/plain": [
              "array(['LYCEE D ENSEIGNEMENT TECHNOLOGIQUE', 'LYCEE POLYVALENT',\n",
              "       'LYCEE ENSEIGNT GENERAL ET TECHNOLOGIQUE',\n",
              "       'LYCEE D ENSEIGNEMENT GENERAL', 'LYCEE PROFESSIONNEL',\n",
              "       'SECTION ENSEIGNT GEN. ET PROF. ADAPTE',\n",
              "       'ETAB REGIONAL/LYCEE ENSEIGNEMENT ADAPTE',\n",
              "       'SECTION D ENSEIGNEMENT PROFESSIONNEL', 'LYCEE EXPERIMENTAL'],\n",
              "      dtype=object)"
            ]
          },
          "metadata": {},
          "execution_count": 45
        }
      ]
    },
    {
      "cell_type": "markdown",
      "source": [
        "C'est dorénavant bon, il ne nous reste plus que les lycées"
      ],
      "metadata": {
        "id": "uIbTfGcXh9gZ"
      }
    },
    {
      "cell_type": "code",
      "source": [
        "df.plot(kind = 'scatter', x = 'Longitude', y = 'Latitude')"
      ],
      "metadata": {
        "colab": {
          "base_uri": "https://localhost:8080/",
          "height": 466
        },
        "id": "rzIbPjcBiZK2",
        "outputId": "b309dac3-c924-45a4-af5c-c0e31e7c55bd"
      },
      "execution_count": 46,
      "outputs": [
        {
          "output_type": "execute_result",
          "data": {
            "text/plain": [
              "<Axes: xlabel='Longitude', ylabel='Latitude'>"
            ]
          },
          "metadata": {},
          "execution_count": 46
        },
        {
          "output_type": "display_data",
          "data": {
            "text/plain": [
              "<Figure size 640x480 with 1 Axes>"
            ],
            "image/png": "[encoded data removed]"
          },
          "metadata": {}
        }
      ]
    },
    {
      "cell_type": "markdown",
      "source": [
        "On aperçoit bien ici une carte de Paris, où l'on voit que les lycées ont l'air répartis de manière plutôt uniforme. On se propose donc de compter les lycées dans chaque arrondissement."
      ],
      "metadata": {
        "id": "eH0agcnerWGw"
      }
    },
    {
      "cell_type": "code",
      "source": [
        "df['Code postal'].value_counts()"
      ],
      "metadata": {
        "colab": {
          "base_uri": "https://localhost:8080/"
        },
        "id": "LBKF0n9ZrrkL",
        "outputId": "e65fe8db-ceb0-4af2-de82-c96fa78c539c"
      },
      "execution_count": 47,
      "outputs": [
        {
          "output_type": "execute_result",
          "data": {
            "text/plain": [
              "75019    25\n",
              "75016    25\n",
              "75015    24\n",
              "75013    22\n",
              "75011    20\n",
              "75006    18\n",
              "75014    17\n",
              "75012    16\n",
              "75017    15\n",
              "75018    14\n",
              "75020    14\n",
              "75009    13\n",
              "75007    12\n",
              "75010    10\n",
              "75005     9\n",
              "75008     8\n",
              "75003     6\n",
              "75004     5\n",
              "75002     4\n",
              "75001     1\n",
              "Name: Code postal, dtype: int64"
            ]
          },
          "metadata": {},
          "execution_count": 47
        }
      ]
    },
    {
      "cell_type": "markdown",
      "source": [
        "On voit déjà grâce à nos connaissances de la situation immobilière à Paris, i.e grâce aux résultats des parties précedentes, que la corrélation entre nombre de lycées et prix de vente des appartement semble très faible.\n",
        "\n",
        "Pour améliorer la statistique, il peut être utile de ponderer les résultats par la population présente dans chaque arrondissement."
      ],
      "metadata": {
        "id": "ohWMOmhBts92"
      }
    },
    {
      "cell_type": "code",
      "source": [
        "import numpy as np"
      ],
      "metadata": {
        "id": "1uyi6EVUw6s-"
      },
      "execution_count": 48,
      "outputs": []
    },
    {
      "cell_type": "code",
      "source": [
        "pop = np.array([[1, 16395], [2, 21042], [3,34389 ], [4,28370 ], [5,59631 ], [6,41976 ], [7,52193 ], [8, 37368], [9, 60071], [10, 90836], [11,147470 ], [12, 141287], [13,183399 ], [14,136941 ], [15, 235178], [16,168554 ], [17,168737 ], [18,196131 ], [19,188066 ], [20, 196739]])\n",
        "df_pop = pd.DataFrame(pop, columns = ['Arrondissement', 'Population'])"
      ],
      "metadata": {
        "id": "XE12b-WEuejS"
      },
      "execution_count": 49,
      "outputs": []
    },
    {
      "cell_type": "code",
      "source": [
        "df_pop"
      ],
      "metadata": {
        "id": "6Bs-FRDGyS6I",
        "colab": {
          "base_uri": "https://localhost:8080/",
          "height": 669
        },
        "outputId": "657a8f4f-921b-4e78-9f86-c255d7a09077"
      },
      "execution_count": 50,
      "outputs": [
        {
          "output_type": "execute_result",
          "data": {
            "text/plain": [
              "    Arrondissement  Population\n",
              "0                1       16395\n",
              "1                2       21042\n",
              "2                3       34389\n",
              "3                4       28370\n",
              "4                5       59631\n",
              "5                6       41976\n",
              "6                7       52193\n",
              "7                8       37368\n",
              "8                9       60071\n",
              "9               10       90836\n",
              "10              11      147470\n",
              "11              12      141287\n",
              "12              13      183399\n",
              "13              14      136941\n",
              "14              15      235178\n",
              "15              16      168554\n",
              "16              17      168737\n",
              "17              18      196131\n",
              "18              19      188066\n",
              "19              20      196739"
            ],
            "text/html": [
              "\n",
              "  <div id=\"df-4296e427-1cec-438d-a9d8-fb5aaf640838\">\n",
              "    <div class=\"colab-df-container\">\n",
              "      <div>\n",
              "<style scoped>\n",
              "    .dataframe tbody tr th:only-of-type {\n",
              "        vertical-align: middle;\n",
              "    }\n",
              "\n",
              "    .dataframe tbody tr th {\n",
              "        vertical-align: top;\n",
              "    }\n",
              "\n",
              "    .dataframe thead th {\n",
              "        text-align: right;\n",
              "    }\n",
              "</style>\n",
              "<table border=\"1\" class=\"dataframe\">\n",
              "  <thead>\n",
              "    <tr style=\"text-align: right;\">\n",
              "      <th></th>\n",
              "      <th>Arrondissement</th>\n",
              "      <th>Population</th>\n",
              "    </tr>\n",
              "  </thead>\n",
              "  <tbody>\n",
              "    <tr>\n",
              "      <th>0</th>\n",
              "      <td>1</td>\n",
              "      <td>16395</td>\n",
              "    </tr>\n",
              "    <tr>\n",
              "      <th>1</th>\n",
              "      <td>2</td>\n",
              "      <td>21042</td>\n",
              "    </tr>\n",
              "    <tr>\n",
              "      <th>2</th>\n",
              "      <td>3</td>\n",
              "      <td>34389</td>\n",
              "    </tr>\n",
              "    <tr>\n",
              "      <th>3</th>\n",
              "      <td>4</td>\n",
              "      <td>28370</td>\n",
              "    </tr>\n",
              "    <tr>\n",
              "      <th>4</th>\n",
              "      <td>5</td>\n",
              "      <td>59631</td>\n",
              "    </tr>\n",
              "    <tr>\n",
              "      <th>5</th>\n",
              "      <td>6</td>\n",
              "      <td>41976</td>\n",
              "    </tr>\n",
              "    <tr>\n",
              "      <th>6</th>\n",
              "      <td>7</td>\n",
              "      <td>52193</td>\n",
              "    </tr>\n",
              "    <tr>\n",
              "      <th>7</th>\n",
              "      <td>8</td>\n",
              "      <td>37368</td>\n",
              "    </tr>\n",
              "    <tr>\n",
              "      <th>8</th>\n",
              "      <td>9</td>\n",
              "      <td>60071</td>\n",
              "    </tr>\n",
              "    <tr>\n",
              "      <th>9</th>\n",
              "      <td>10</td>\n",
              "      <td>90836</td>\n",
              "    </tr>\n",
              "    <tr>\n",
              "      <th>10</th>\n",
              "      <td>11</td>\n",
              "      <td>147470</td>\n",
              "    </tr>\n",
              "    <tr>\n",
              "      <th>11</th>\n",
              "      <td>12</td>\n",
              "      <td>141287</td>\n",
              "    </tr>\n",
              "    <tr>\n",
              "      <th>12</th>\n",
              "      <td>13</td>\n",
              "      <td>183399</td>\n",
              "    </tr>\n",
              "    <tr>\n",
              "      <th>13</th>\n",
              "      <td>14</td>\n",
              "      <td>136941</td>\n",
              "    </tr>\n",
              "    <tr>\n",
              "      <th>14</th>\n",
              "      <td>15</td>\n",
              "      <td>235178</td>\n",
              "    </tr>\n",
              "    <tr>\n",
              "      <th>15</th>\n",
              "      <td>16</td>\n",
              "      <td>168554</td>\n",
              "    </tr>\n",
              "    <tr>\n",
              "      <th>16</th>\n",
              "      <td>17</td>\n",
              "      <td>168737</td>\n",
              "    </tr>\n",
              "    <tr>\n",
              "      <th>17</th>\n",
              "      <td>18</td>\n",
              "      <td>196131</td>\n",
              "    </tr>\n",
              "    <tr>\n",
              "      <th>18</th>\n",
              "      <td>19</td>\n",
              "      <td>188066</td>\n",
              "    </tr>\n",
              "    <tr>\n",
              "      <th>19</th>\n",
              "      <td>20</td>\n",
              "      <td>196739</td>\n",
              "    </tr>\n",
              "  </tbody>\n",
              "</table>\n",
              "</div>\n",
              "      <button class=\"colab-df-convert\" onclick=\"convertToInteractive('df-4296e427-1cec-438d-a9d8-fb5aaf640838')\"\n",
              "              title=\"Convert this dataframe to an interactive table.\"\n",
              "              style=\"display:none;\">\n",
              "        \n",
              "  <svg xmlns=\"http://www.w3.org/2000/svg\" height=\"24px\"viewBox=\"0 0 24 24\"\n",
              "       width=\"24px\">\n",
              "    <path d=\"M0 0h24v24H0V0z\" fill=\"none\"/>\n",
              "    <path d=\"M18.56 5.44l.94 2.06.94-2.06 2.06-.94-2.06-.94-.94-2.06-.94 2.06-2.06.94zm-11 1L8.5 8.5l.94-2.06 2.06-.94-2.06-.94L8.5 2.5l-.94 2.06-2.06.94zm10 10l.94 2.06.94-2.06 2.06-.94-2.06-.94-.94-2.06-.94 2.06-2.06.94z\"/><path d=\"M17.41 7.96l-1.37-1.37c-.4-.4-.92-.59-1.43-.59-.52 0-1.04.2-1.43.59L10.3 9.45l-7.72 7.72c-.78.78-.78 2.05 0 2.83L4 21.41c.39.39.9.59 1.41.59.51 0 1.02-.2 1.41-.59l7.78-7.78 2.81-2.81c.8-.78.8-2.07 0-2.86zM5.41 20L4 18.59l7.72-7.72 1.47 1.35L5.41 20z\"/>\n",
              "  </svg>\n",
              "      </button>\n",
              "      \n",
              "  <style>\n",
              "    .colab-df-container {\n",
              "      display:flex;\n",
              "      flex-wrap:wrap;\n",
              "      gap: 12px;\n",
              "    }\n",
              "\n",
              "    .colab-df-convert {\n",
              "      background-color: #E8F0FE;\n",
              "      border: none;\n",
              "      border-radius: 50%;\n",
              "      cursor: pointer;\n",
              "      display: none;\n",
              "      fill: #1967D2;\n",
              "      height: 32px;\n",
              "      padding: 0 0 0 0;\n",
              "      width: 32px;\n",
              "    }\n",
              "\n",
              "    .colab-df-convert:hover {\n",
              "      background-color: #E2EBFA;\n",
              "      box-shadow: 0px 1px 2px rgba(60, 64, 67, 0.3), 0px 1px 3px 1px rgba(60, 64, 67, 0.15);\n",
              "      fill: #174EA6;\n",
              "    }\n",
              "\n",
              "    [theme=dark] .colab-df-convert {\n",
              "      background-color: #3B4455;\n",
              "      fill: #D2E3FC;\n",
              "    }\n",
              "\n",
              "    [theme=dark] .colab-df-convert:hover {\n",
              "      background-color: #434B5C;\n",
              "      box-shadow: 0px 1px 3px 1px rgba(0, 0, 0, 0.15);\n",
              "      filter: drop-shadow(0px 1px 2px rgba(0, 0, 0, 0.3));\n",
              "      fill: #FFFFFF;\n",
              "    }\n",
              "  </style>\n",
              "\n",
              "      <script>\n",
              "        const buttonEl =\n",
              "          document.querySelector('#df-4296e427-1cec-438d-a9d8-fb5aaf640838 button.colab-df-convert');\n",
              "        buttonEl.style.display =\n",
              "          google.colab.kernel.accessAllowed ? 'block' : 'none';\n",
              "\n",
              "        async function convertToInteractive(key) {\n",
              "          const element = document.querySelector('#df-4296e427-1cec-438d-a9d8-fb5aaf640838');\n",
              "          const dataTable =\n",
              "            await google.colab.kernel.invokeFunction('convertToInteractive',\n",
              "                                                     [key], {});\n",
              "          if (!dataTable) return;\n",
              "\n",
              "          const docLinkHtml = 'Like what you see? Visit the ' +\n",
              "            '<a target=\"_blank\" href=https://colab.research.google.com/notebooks/data_table.ipynb>data table notebook</a>'\n",
              "            + ' to learn more about interactive tables.';\n",
              "          element.innerHTML = '';\n",
              "          dataTable['output_type'] = 'display_data';\n",
              "          await google.colab.output.renderOutput(dataTable, element);\n",
              "          const docLink = document.createElement('div');\n",
              "          docLink.innerHTML = docLinkHtml;\n",
              "          element.appendChild(docLink);\n",
              "        }\n",
              "      </script>\n",
              "    </div>\n",
              "  </div>\n",
              "  "
            ]
          },
          "metadata": {},
          "execution_count": 50
        }
      ]
    },
    {
      "cell_type": "markdown",
      "source": [
        "Maintenant que nous avons la population par chaque arrondissement on créer pour chacun, une statistique de ratio  "
      ],
      "metadata": {
        "id": "hZSFU_L4yXwK"
      }
    },
    {
      "cell_type": "code",
      "source": [
        "df_pop=df_pop.assign(nb_lycees=6)\n",
        "print(df_pop)"
      ],
      "metadata": {
        "colab": {
          "base_uri": "https://localhost:8080/"
        },
        "id": "3aOr9FXufiIT",
        "outputId": "a156f41c-5ddc-483e-f37a-99a007e31918"
      },
      "execution_count": 51,
      "outputs": [
        {
          "output_type": "stream",
          "name": "stdout",
          "text": [
            "    Arrondissement  Population  nb_lycees\n",
            "0                1       16395          6\n",
            "1                2       21042          6\n",
            "2                3       34389          6\n",
            "3                4       28370          6\n",
            "4                5       59631          6\n",
            "5                6       41976          6\n",
            "6                7       52193          6\n",
            "7                8       37368          6\n",
            "8                9       60071          6\n",
            "9               10       90836          6\n",
            "10              11      147470          6\n",
            "11              12      141287          6\n",
            "12              13      183399          6\n",
            "13              14      136941          6\n",
            "14              15      235178          6\n",
            "15              16      168554          6\n",
            "16              17      168737          6\n",
            "17              18      196131          6\n",
            "18              19      188066          6\n",
            "19              20      196739          6\n"
          ]
        }
      ]
    },
    {
      "cell_type": "code",
      "source": [
        "L = [1,4,6,5,9,18,12,8,13,10,20,16,22,17,24,25,15,14,25,14]"
      ],
      "metadata": {
        "id": "_hrwc-C_hGAF"
      },
      "execution_count": 52,
      "outputs": []
    },
    {
      "cell_type": "code",
      "source": [
        "df_pop=df_pop.assign(nb_lycees=L)\n",
        "print(df_pop)"
      ],
      "metadata": {
        "colab": {
          "base_uri": "https://localhost:8080/"
        },
        "id": "5SzAtw4Li0oT",
        "outputId": "4903a960-9e8c-4268-f916-b3fe0649e1f4"
      },
      "execution_count": 53,
      "outputs": [
        {
          "output_type": "stream",
          "name": "stdout",
          "text": [
            "    Arrondissement  Population  nb_lycees\n",
            "0                1       16395          1\n",
            "1                2       21042          4\n",
            "2                3       34389          6\n",
            "3                4       28370          5\n",
            "4                5       59631          9\n",
            "5                6       41976         18\n",
            "6                7       52193         12\n",
            "7                8       37368          8\n",
            "8                9       60071         13\n",
            "9               10       90836         10\n",
            "10              11      147470         20\n",
            "11              12      141287         16\n",
            "12              13      183399         22\n",
            "13              14      136941         17\n",
            "14              15      235178         24\n",
            "15              16      168554         25\n",
            "16              17      168737         15\n",
            "17              18      196131         14\n",
            "18              19      188066         25\n",
            "19              20      196739         14\n"
          ]
        }
      ]
    },
    {
      "cell_type": "code",
      "source": [
        "K = []\n",
        "for i in range(len(df_pop)):\n",
        "  K.append(df_pop['nb_lycees'][i]/df_pop['Population'][i])"
      ],
      "metadata": {
        "id": "WIaqIs8pi85Z"
      },
      "execution_count": 54,
      "outputs": []
    },
    {
      "cell_type": "code",
      "source": [
        "for i in range(len(L)):\n",
        "  K[i] = K[i]*10000"
      ],
      "metadata": {
        "id": "TUIskwJBkgGa"
      },
      "execution_count": 55,
      "outputs": []
    },
    {
      "cell_type": "code",
      "source": [
        "df_pop=df_pop.assign(score=K)\n",
        "print(df_pop)"
      ],
      "metadata": {
        "colab": {
          "base_uri": "https://localhost:8080/"
        },
        "id": "P6-gGFk-kuh7",
        "outputId": "895df96e-1411-412e-a67f-bda64a039eed"
      },
      "execution_count": 56,
      "outputs": [
        {
          "output_type": "stream",
          "name": "stdout",
          "text": [
            "    Arrondissement  Population  nb_lycees     score\n",
            "0                1       16395          1  0.609942\n",
            "1                2       21042          4  1.900960\n",
            "2                3       34389          6  1.744744\n",
            "3                4       28370          5  1.762425\n",
            "4                5       59631          9  1.509282\n",
            "5                6       41976         18  4.288165\n",
            "6                7       52193         12  2.299159\n",
            "7                8       37368          8  2.140869\n",
            "8                9       60071         13  2.164106\n",
            "9               10       90836         10  1.100885\n",
            "10              11      147470         20  1.356208\n",
            "11              12      141287         16  1.132447\n",
            "12              13      183399         22  1.199570\n",
            "13              14      136941         17  1.241411\n",
            "14              15      235178         24  1.020504\n",
            "15              16      168554         25  1.483204\n",
            "16              17      168737         15  0.888957\n",
            "17              18      196131         14  0.713809\n",
            "18              19      188066         25  1.329321\n",
            "19              20      196739         14  0.711603\n"
          ]
        }
      ]
    },
    {
      "cell_type": "code",
      "source": [
        "df_pop=df_pop.assign(lycees_pour_10000=K)\n",
        "df_pop.drop(['score'], axis=1, inplace = True)\n",
        "print(df_pop)"
      ],
      "metadata": {
        "colab": {
          "base_uri": "https://localhost:8080/"
        },
        "id": "TWa5vepElQpZ",
        "outputId": "4e2303cc-f35b-4f8b-f3f4-6313cdbe1292"
      },
      "execution_count": 57,
      "outputs": [
        {
          "output_type": "stream",
          "name": "stdout",
          "text": [
            "    Arrondissement  Population  nb_lycees  lycees_pour_10000\n",
            "0                1       16395          1           0.609942\n",
            "1                2       21042          4           1.900960\n",
            "2                3       34389          6           1.744744\n",
            "3                4       28370          5           1.762425\n",
            "4                5       59631          9           1.509282\n",
            "5                6       41976         18           4.288165\n",
            "6                7       52193         12           2.299159\n",
            "7                8       37368          8           2.140869\n",
            "8                9       60071         13           2.164106\n",
            "9               10       90836         10           1.100885\n",
            "10              11      147470         20           1.356208\n",
            "11              12      141287         16           1.132447\n",
            "12              13      183399         22           1.199570\n",
            "13              14      136941         17           1.241411\n",
            "14              15      235178         24           1.020504\n",
            "15              16      168554         25           1.483204\n",
            "16              17      168737         15           0.888957\n",
            "17              18      196131         14           0.713809\n",
            "18              19      188066         25           1.329321\n",
            "19              20      196739         14           0.711603\n"
          ]
        }
      ]
    },
    {
      "cell_type": "markdown",
      "source": [
        "On voit déja une plus forte corrélation entre le prix des appartements et la statistique lycees_pour_10000.\n",
        "Cependant, on peut aussi chercher à savoir si la proportion de lycées privés influe sur les prix des appartements."
      ],
      "metadata": {
        "id": "FAuEZtqll1Ev"
      }
    },
    {
      "cell_type": "code",
      "source": [
        "df['Secteur Public/Privé'].value_counts()"
      ],
      "metadata": {
        "colab": {
          "base_uri": "https://localhost:8080/"
        },
        "id": "EucYNrMhl0dN",
        "outputId": "430d523c-7c7e-41ad-c499-1c8ba952f219"
      },
      "execution_count": 58,
      "outputs": [
        {
          "output_type": "execute_result",
          "data": {
            "text/plain": [
              "Privé     142\n",
              "Public    136\n",
              "Name: Secteur Public/Privé, dtype: int64"
            ]
          },
          "metadata": {},
          "execution_count": 58
        }
      ]
    },
    {
      "cell_type": "code",
      "source": [
        "import matplotlib.pyplot as plt"
      ],
      "metadata": {
        "id": "Itg7-XYRtMkn"
      },
      "execution_count": 59,
      "outputs": []
    },
    {
      "cell_type": "markdown",
      "source": [
        "On ajoute une colonne privé/public sous forme binaire : 0 si c'est public, 1 si c'est privé"
      ],
      "metadata": {
        "id": "Eey3wX3fti0B"
      }
    },
    {
      "cell_type": "code",
      "source": [
        "bin = df['Secteur Public/Privé'] == 'Privé'"
      ],
      "metadata": {
        "id": "d_0wGcwEtceL"
      },
      "execution_count": 60,
      "outputs": []
    },
    {
      "cell_type": "code",
      "source": [
        "df=df.assign(Statut = bin)"
      ],
      "metadata": {
        "id": "8zh6cp5nwq5V"
      },
      "execution_count": 61,
      "outputs": []
    },
    {
      "cell_type": "code",
      "source": [
        "df = df.drop(['Etat établissement', 'Coordonnee X','Coordonnee Y'], axis=1)"
      ],
      "metadata": {
        "id": "IqmYa1XdxXHT"
      },
      "execution_count": 62,
      "outputs": []
    },
    {
      "cell_type": "code",
      "source": [
        "df = df.drop(['Dénomination principale'], axis=1)"
      ],
      "metadata": {
        "id": "lFuu48_Tx74w"
      },
      "execution_count": 63,
      "outputs": []
    },
    {
      "cell_type": "code",
      "source": [
        "df = df.drop(['Code état établissement'], axis = 1)"
      ],
      "metadata": {
        "id": "ZEYvxj29yOAJ"
      },
      "execution_count": 64,
      "outputs": []
    },
    {
      "cell_type": "code",
      "source": [
        "df[\"Statut\"] = df[\"Statut\"].astype(int)"
      ],
      "metadata": {
        "id": "K_dV3IOry8KO"
      },
      "execution_count": 65,
      "outputs": []
    },
    {
      "cell_type": "code",
      "source": [
        "df.head()"
      ],
      "metadata": {
        "colab": {
          "base_uri": "https://localhost:8080/",
          "height": 333
        },
        "id": "SnmJyzhbzAvc",
        "outputId": "0c471493-931f-42d0-d27f-96cc05af6274"
      },
      "execution_count": 66,
      "outputs": [
        {
          "output_type": "execute_result",
          "data": {
            "text/plain": [
              "   Code établissement                             Appellation officielle  \\\n",
              "12           0750330B  Lycée technologique privé Ecole Technique Supé...   \n",
              "22           0750558Z                       Lycée polyvalent Paul Poiret   \n",
              "26           0750647W              Lycée général et technologique Turgot   \n",
              "27           0750650Z  Lycée polyvalent d'Alembert - Lycée des métier...   \n",
              "28           0750656F                            Lycée général Lavoisier   \n",
              "\n",
              "   Secteur Public/Privé Code postal   Latitude  Longitude Code nature  \\\n",
              "12                Privé       75013  48.828159   2.373113         301   \n",
              "22               Public       75011  48.854576   2.375020         306   \n",
              "26               Public       75003  48.866193   2.358843         300   \n",
              "27               Public       75019  48.888236   2.393450         306   \n",
              "28               Public       75005  48.842355   2.339295         302   \n",
              "\n",
              "                                     Nature Code commune  Statut  \n",
              "12       LYCEE D ENSEIGNEMENT TECHNOLOGIQUE        75113       1  \n",
              "22                         LYCEE POLYVALENT        75111       0  \n",
              "26  LYCEE ENSEIGNT GENERAL ET TECHNOLOGIQUE        75103       0  \n",
              "27                         LYCEE POLYVALENT        75119       0  \n",
              "28             LYCEE D ENSEIGNEMENT GENERAL        75105       0  "
            ],
            "text/html": [
              "\n",
              "  <div id=\"df-0911bbc1-77b6-4dc9-b9a7-ac2008491856\">\n",
              "    <div class=\"colab-df-container\">\n",
              "      <div>\n",
              "<style scoped>\n",
              "    .dataframe tbody tr th:only-of-type {\n",
              "        vertical-align: middle;\n",
              "    }\n",
              "\n",
              "    .dataframe tbody tr th {\n",
              "        vertical-align: top;\n",
              "    }\n",
              "\n",
              "    .dataframe thead th {\n",
              "        text-align: right;\n",
              "    }\n",
              "</style>\n",
              "<table border=\"1\" class=\"dataframe\">\n",
              "  <thead>\n",
              "    <tr style=\"text-align: right;\">\n",
              "      <th></th>\n",
              "      <th>Code établissement</th>\n",
              "      <th>Appellation officielle</th>\n",
              "      <th>Secteur Public/Privé</th>\n",
              "      <th>Code postal</th>\n",
              "      <th>Latitude</th>\n",
              "      <th>Longitude</th>\n",
              "      <th>Code nature</th>\n",
              "      <th>Nature</th>\n",
              "      <th>Code commune</th>\n",
              "      <th>Statut</th>\n",
              "    </tr>\n",
              "  </thead>\n",
              "  <tbody>\n",
              "    <tr>\n",
              "      <th>12</th>\n",
              "      <td>0750330B</td>\n",
              "      <td>Lycée technologique privé Ecole Technique Supé...</td>\n",
              "      <td>Privé</td>\n",
              "      <td>75013</td>\n",
              "      <td>48.828159</td>\n",
              "      <td>2.373113</td>\n",
              "      <td>301</td>\n",
              "      <td>LYCEE D ENSEIGNEMENT TECHNOLOGIQUE</td>\n",
              "      <td>75113</td>\n",
              "      <td>1</td>\n",
              "    </tr>\n",
              "    <tr>\n",
              "      <th>22</th>\n",
              "      <td>0750558Z</td>\n",
              "      <td>Lycée polyvalent Paul Poiret</td>\n",
              "      <td>Public</td>\n",
              "      <td>75011</td>\n",
              "      <td>48.854576</td>\n",
              "      <td>2.375020</td>\n",
              "      <td>306</td>\n",
              "      <td>LYCEE POLYVALENT</td>\n",
              "      <td>75111</td>\n",
              "      <td>0</td>\n",
              "    </tr>\n",
              "    <tr>\n",
              "      <th>26</th>\n",
              "      <td>0750647W</td>\n",
              "      <td>Lycée général et technologique Turgot</td>\n",
              "      <td>Public</td>\n",
              "      <td>75003</td>\n",
              "      <td>48.866193</td>\n",
              "      <td>2.358843</td>\n",
              "      <td>300</td>\n",
              "      <td>LYCEE ENSEIGNT GENERAL ET TECHNOLOGIQUE</td>\n",
              "      <td>75103</td>\n",
              "      <td>0</td>\n",
              "    </tr>\n",
              "    <tr>\n",
              "      <th>27</th>\n",
              "      <td>0750650Z</td>\n",
              "      <td>Lycée polyvalent d'Alembert - Lycée des métier...</td>\n",
              "      <td>Public</td>\n",
              "      <td>75019</td>\n",
              "      <td>48.888236</td>\n",
              "      <td>2.393450</td>\n",
              "      <td>306</td>\n",
              "      <td>LYCEE POLYVALENT</td>\n",
              "      <td>75119</td>\n",
              "      <td>0</td>\n",
              "    </tr>\n",
              "    <tr>\n",
              "      <th>28</th>\n",
              "      <td>0750656F</td>\n",
              "      <td>Lycée général Lavoisier</td>\n",
              "      <td>Public</td>\n",
              "      <td>75005</td>\n",
              "      <td>48.842355</td>\n",
              "      <td>2.339295</td>\n",
              "      <td>302</td>\n",
              "      <td>LYCEE D ENSEIGNEMENT GENERAL</td>\n",
              "      <td>75105</td>\n",
              "      <td>0</td>\n",
              "    </tr>\n",
              "  </tbody>\n",
              "</table>\n",
              "</div>\n",
              "      <button class=\"colab-df-convert\" onclick=\"convertToInteractive('df-0911bbc1-77b6-4dc9-b9a7-ac2008491856')\"\n",
              "              title=\"Convert this dataframe to an interactive table.\"\n",
              "              style=\"display:none;\">\n",
              "        \n",
              "  <svg xmlns=\"http://www.w3.org/2000/svg\" height=\"24px\"viewBox=\"0 0 24 24\"\n",
              "       width=\"24px\">\n",
              "    <path d=\"M0 0h24v24H0V0z\" fill=\"none\"/>\n",
              "    <path d=\"M18.56 5.44l.94 2.06.94-2.06 2.06-.94-2.06-.94-.94-2.06-.94 2.06-2.06.94zm-11 1L8.5 8.5l.94-2.06 2.06-.94-2.06-.94L8.5 2.5l-.94 2.06-2.06.94zm10 10l.94 2.06.94-2.06 2.06-.94-2.06-.94-.94-2.06-.94 2.06-2.06.94z\"/><path d=\"M17.41 7.96l-1.37-1.37c-.4-.4-.92-.59-1.43-.59-.52 0-1.04.2-1.43.59L10.3 9.45l-7.72 7.72c-.78.78-.78 2.05 0 2.83L4 21.41c.39.39.9.59 1.41.59.51 0 1.02-.2 1.41-.59l7.78-7.78 2.81-2.81c.8-.78.8-2.07 0-2.86zM5.41 20L4 18.59l7.72-7.72 1.47 1.35L5.41 20z\"/>\n",
              "  </svg>\n",
              "      </button>\n",
              "      \n",
              "  <style>\n",
              "    .colab-df-container {\n",
              "      display:flex;\n",
              "      flex-wrap:wrap;\n",
              "      gap: 12px;\n",
              "    }\n",
              "\n",
              "    .colab-df-convert {\n",
              "      background-color: #E8F0FE;\n",
              "      border: none;\n",
              "      border-radius: 50%;\n",
              "      cursor: pointer;\n",
              "      display: none;\n",
              "      fill: #1967D2;\n",
              "      height: 32px;\n",
              "      padding: 0 0 0 0;\n",
              "      width: 32px;\n",
              "    }\n",
              "\n",
              "    .colab-df-convert:hover {\n",
              "      background-color: #E2EBFA;\n",
              "      box-shadow: 0px 1px 2px rgba(60, 64, 67, 0.3), 0px 1px 3px 1px rgba(60, 64, 67, 0.15);\n",
              "      fill: #174EA6;\n",
              "    }\n",
              "\n",
              "    [theme=dark] .colab-df-convert {\n",
              "      background-color: #3B4455;\n",
              "      fill: #D2E3FC;\n",
              "    }\n",
              "\n",
              "    [theme=dark] .colab-df-convert:hover {\n",
              "      background-color: #434B5C;\n",
              "      box-shadow: 0px 1px 3px 1px rgba(0, 0, 0, 0.15);\n",
              "      filter: drop-shadow(0px 1px 2px rgba(0, 0, 0, 0.3));\n",
              "      fill: #FFFFFF;\n",
              "    }\n",
              "  </style>\n",
              "\n",
              "      <script>\n",
              "        const buttonEl =\n",
              "          document.querySelector('#df-0911bbc1-77b6-4dc9-b9a7-ac2008491856 button.colab-df-convert');\n",
              "        buttonEl.style.display =\n",
              "          google.colab.kernel.accessAllowed ? 'block' : 'none';\n",
              "\n",
              "        async function convertToInteractive(key) {\n",
              "          const element = document.querySelector('#df-0911bbc1-77b6-4dc9-b9a7-ac2008491856');\n",
              "          const dataTable =\n",
              "            await google.colab.kernel.invokeFunction('convertToInteractive',\n",
              "                                                     [key], {});\n",
              "          if (!dataTable) return;\n",
              "\n",
              "          const docLinkHtml = 'Like what you see? Visit the ' +\n",
              "            '<a target=\"_blank\" href=https://colab.research.google.com/notebooks/data_table.ipynb>data table notebook</a>'\n",
              "            + ' to learn more about interactive tables.';\n",
              "          element.innerHTML = '';\n",
              "          dataTable['output_type'] = 'display_data';\n",
              "          await google.colab.output.renderOutput(dataTable, element);\n",
              "          const docLink = document.createElement('div');\n",
              "          docLink.innerHTML = docLinkHtml;\n",
              "          element.appendChild(docLink);\n",
              "        }\n",
              "      </script>\n",
              "    </div>\n",
              "  </div>\n",
              "  "
            ]
          },
          "metadata": {},
          "execution_count": 66
        }
      ]
    },
    {
      "cell_type": "code",
      "source": [
        "df.plot(kind=\"scatter\", x=\"Longitude\", y=\"Latitude\", figsize=(7,5),c=\"Statut\", cmap=plt.get_cmap(\"jet\"), colorbar=False )\n",
        "plt.legend()"
      ],
      "metadata": {
        "colab": {
          "base_uri": "https://localhost:8080/",
          "height": 519
        },
        "id": "KUuDMcS-s6Nq",
        "outputId": "790f7dab-425d-4d29-8681-5db38e1812b6"
      },
      "execution_count": 67,
      "outputs": [
        {
          "output_type": "stream",
          "name": "stderr",
          "text": [
            "WARNING:matplotlib.legend:No artists with labels found to put in legend.  Note that artists whose label start with an underscore are ignored when legend() is called with no argument.\n"
          ]
        },
        {
          "output_type": "execute_result",
          "data": {
            "text/plain": [
              "<matplotlib.legend.Legend at 0x7f4af9eaf4f0>"
            ]
          },
          "metadata": {},
          "execution_count": 67
        },
        {
          "output_type": "display_data",
          "data": {
            "text/plain": [
              "<Figure size 700x500 with 1 Axes>"
            ],
            "image/png": "[encoded data removed]"
          },
          "metadata": {}
        }
      ]
    },
    {
      "cell_type": "markdown",
      "source": [
        "Rouge = privé \n",
        "Bleu = public\n"
      ],
      "metadata": {
        "id": "4638PUrlHI4u"
      }
    }
  ]
}